{
 "cells": [
  {
   "cell_type": "code",
   "execution_count": 1,
   "metadata": {
    "execution": {
     "iopub.execute_input": "2022-12-08T17:24:50.076613Z",
     "iopub.status.busy": "2022-12-08T17:24:50.075955Z",
     "iopub.status.idle": "2022-12-08T17:24:56.024912Z",
     "shell.execute_reply": "2022-12-08T17:24:56.024153Z",
     "shell.execute_reply.started": "2022-12-08T17:24:50.076560Z"
    }
   },
   "outputs": [],
   "source": [
    "import numpy as np \n",
    "import pandas as pd \n",
    "import matplotlib.pyplot as plt\n",
    "import seaborn as sns\n",
    "sns.set()\n",
    "\n",
    "from keras.models import Sequential\n",
    "from keras.layers import Conv2D, Dropout, BatchNormalization, Flatten, Dense, MaxPooling2D\n",
    "from tensorflow.keras.utils import to_categorical\n",
    "from keras.callbacks import EarlyStopping, ReduceLROnPlateau\n",
    "from tensorflow.keras.optimizers import Adam\n",
    "from sklearn.metrics import mean_absolute_error, confusion_matrix, classification_report\n",
    "from sklearn.model_selection import train_test_split\n",
    "from sklearn.metrics import mean_absolute_error"
   ]
  },
  {
   "cell_type": "code",
   "execution_count": 36,
   "metadata": {},
   "outputs": [],
   "source": [
    "import os \n",
    "import gc \n",
    "import tensorflow as tf \n",
    "from keras import Sequential \n",
    "from keras.layers import Dense,BatchNormalization,Dropout,Activation,Flatten \n",
    "from keras.layers import Lambda, Input, GlobalAveragePooling2D, GlobalMaxPooling2D\n",
    "from tensorflow.keras.optimizers import Adam \n",
    "from keras.models import Model \n",
    "from keras.callbacks import ReduceLROnPlateau, EarlyStopping, ModelCheckpoint \n",
    "from keras.preprocessing.image import ImageDataGenerator,load_img \n",
    "from keras import regularizers"
   ]
  },
  {
   "cell_type": "code",
   "execution_count": 15,
   "metadata": {
    "execution": {
     "iopub.execute_input": "2022-12-08T17:24:56.026858Z",
     "iopub.status.busy": "2022-12-08T17:24:56.026577Z",
     "iopub.status.idle": "2022-12-08T17:25:09.010268Z",
     "shell.execute_reply": "2022-12-08T17:25:09.009476Z",
     "shell.execute_reply.started": "2022-12-08T17:24:56.026823Z"
    }
   },
   "outputs": [
    {
     "data": {
      "text/html": [
       "<div>\n",
       "<style scoped>\n",
       "    .dataframe tbody tr th:only-of-type {\n",
       "        vertical-align: middle;\n",
       "    }\n",
       "\n",
       "    .dataframe tbody tr th {\n",
       "        vertical-align: top;\n",
       "    }\n",
       "\n",
       "    .dataframe thead th {\n",
       "        text-align: right;\n",
       "    }\n",
       "</style>\n",
       "<table border=\"1\" class=\"dataframe\">\n",
       "  <thead>\n",
       "    <tr style=\"text-align: right;\">\n",
       "      <th></th>\n",
       "      <th>age</th>\n",
       "      <th>gender</th>\n",
       "      <th>ethnicity</th>\n",
       "      <th>image</th>\n",
       "    </tr>\n",
       "  </thead>\n",
       "  <tbody>\n",
       "    <tr>\n",
       "      <th>0</th>\n",
       "      <td>1</td>\n",
       "      <td>1</td>\n",
       "      <td>0</td>\n",
       "      <td>109 146 198 132 169 221 134 171 223 137 174 22...</td>\n",
       "    </tr>\n",
       "    <tr>\n",
       "      <th>1</th>\n",
       "      <td>1</td>\n",
       "      <td>0</td>\n",
       "      <td>3</td>\n",
       "      <td>0 1 2 2 1 1 5 1 0 11 3 3 1 0 6 27 35 45 97 111...</td>\n",
       "    </tr>\n",
       "    <tr>\n",
       "      <th>2</th>\n",
       "      <td>1</td>\n",
       "      <td>0</td>\n",
       "      <td>3</td>\n",
       "      <td>54 64 91 55 66 95 56 72 105 58 76 113 67 85 12...</td>\n",
       "    </tr>\n",
       "    <tr>\n",
       "      <th>3</th>\n",
       "      <td>1</td>\n",
       "      <td>0</td>\n",
       "      <td>3</td>\n",
       "      <td>80 98 125 77 94 129 113 131 169 147 169 201 16...</td>\n",
       "    </tr>\n",
       "    <tr>\n",
       "      <th>4</th>\n",
       "      <td>1</td>\n",
       "      <td>0</td>\n",
       "      <td>3</td>\n",
       "      <td>63 55 96 58 51 94 72 67 112 83 80 126 91 90 13...</td>\n",
       "    </tr>\n",
       "    <tr>\n",
       "      <th>...</th>\n",
       "      <td>...</td>\n",
       "      <td>...</td>\n",
       "      <td>...</td>\n",
       "      <td>...</td>\n",
       "    </tr>\n",
       "    <tr>\n",
       "      <th>23703</th>\n",
       "      <td>115</td>\n",
       "      <td>1</td>\n",
       "      <td>1</td>\n",
       "      <td>175 211 219 177 210 219 176 206 215 166 195 20...</td>\n",
       "    </tr>\n",
       "    <tr>\n",
       "      <th>23704</th>\n",
       "      <td>116</td>\n",
       "      <td>1</td>\n",
       "      <td>0</td>\n",
       "      <td>12 76 199 41 60 149 60 87 123 96 118 167 119 1...</td>\n",
       "    </tr>\n",
       "    <tr>\n",
       "      <th>23705</th>\n",
       "      <td>116</td>\n",
       "      <td>1</td>\n",
       "      <td>0</td>\n",
       "      <td>61 77 93 70 88 104 77 97 115 81 102 123 85 109...</td>\n",
       "    </tr>\n",
       "    <tr>\n",
       "      <th>23706</th>\n",
       "      <td>116</td>\n",
       "      <td>1</td>\n",
       "      <td>2</td>\n",
       "      <td>193 208 210 183 201 206 177 197 207 160 184 19...</td>\n",
       "    </tr>\n",
       "    <tr>\n",
       "      <th>23707</th>\n",
       "      <td>116</td>\n",
       "      <td>1</td>\n",
       "      <td>3</td>\n",
       "      <td>145 150 97 145 158 113 122 137 146 50 159 177 ...</td>\n",
       "    </tr>\n",
       "  </tbody>\n",
       "</table>\n",
       "<p>23708 rows × 4 columns</p>\n",
       "</div>"
      ],
      "text/plain": [
       "       age  gender ethnicity  \\\n",
       "0        1       1         0   \n",
       "1        1       0         3   \n",
       "2        1       0         3   \n",
       "3        1       0         3   \n",
       "4        1       0         3   \n",
       "...    ...     ...       ...   \n",
       "23703  115       1         1   \n",
       "23704  116       1         0   \n",
       "23705  116       1         0   \n",
       "23706  116       1         2   \n",
       "23707  116       1         3   \n",
       "\n",
       "                                                   image  \n",
       "0      109 146 198 132 169 221 134 171 223 137 174 22...  \n",
       "1      0 1 2 2 1 1 5 1 0 11 3 3 1 0 6 27 35 45 97 111...  \n",
       "2      54 64 91 55 66 95 56 72 105 58 76 113 67 85 12...  \n",
       "3      80 98 125 77 94 129 113 131 169 147 169 201 16...  \n",
       "4      63 55 96 58 51 94 72 67 112 83 80 126 91 90 13...  \n",
       "...                                                  ...  \n",
       "23703  175 211 219 177 210 219 176 206 215 166 195 20...  \n",
       "23704  12 76 199 41 60 149 60 87 123 96 118 167 119 1...  \n",
       "23705  61 77 93 70 88 104 77 97 115 81 102 123 85 109...  \n",
       "23706  193 208 210 183 201 206 177 197 207 160 184 19...  \n",
       "23707  145 150 97 145 158 113 122 137 146 50 159 177 ...  \n",
       "\n",
       "[23708 rows x 4 columns]"
      ]
     },
     "execution_count": 15,
     "metadata": {},
     "output_type": "execute_result"
    }
   ],
   "source": [
    "df = pd.read_csv('./utkface_sortAge.csv')\n",
    "df.drop(['Unnamed: 0'], axis = 1, inplace = True)\n",
    "df"
   ]
  },
  {
   "cell_type": "code",
   "execution_count": 16,
   "metadata": {
    "execution": {
     "iopub.execute_input": "2022-12-08T14:43:46.053581Z",
     "iopub.status.busy": "2022-12-08T14:43:46.053312Z",
     "iopub.status.idle": "2022-12-08T14:43:46.063848Z",
     "shell.execute_reply": "2022-12-08T14:43:46.062997Z",
     "shell.execute_reply.started": "2022-12-08T14:43:46.053552Z"
    }
   },
   "outputs": [
    {
     "data": {
      "text/plain": [
       "(array([  1,   2,   3,   4,   5,   6,   7,   8,   9,  10,  11,  12,  13,\n",
       "         14,  15,  16,  17,  18,  19,  20,  21,  22,  23,  24,  25,  26,\n",
       "         27,  28,  29,  30,  31,  32,  33,  34,  35,  36,  37,  38,  39,\n",
       "         40,  41,  42,  43,  44,  45,  46,  47,  48,  49,  50,  51,  52,\n",
       "         53,  54,  55,  56,  57,  58,  59,  60,  61,  62,  63,  64,  65,\n",
       "         66,  67,  68,  69,  70,  71,  72,  73,  74,  75,  76,  77,  78,\n",
       "         79,  80,  81,  82,  83,  84,  85,  86,  87,  88,  89,  90,  91,\n",
       "         92,  93,  95,  96,  99, 100, 101, 103, 105, 110, 111, 115, 116],\n",
       "       dtype=int64),\n",
       " array([1, 0], dtype=int64))"
      ]
     },
     "execution_count": 16,
     "metadata": {},
     "output_type": "execute_result"
    }
   ],
   "source": [
    "df.age.unique(), df.gender.unique()"
   ]
  },
  {
   "cell_type": "code",
   "execution_count": 17,
   "metadata": {
    "execution": {
     "iopub.execute_input": "2022-12-08T15:22:21.029253Z",
     "iopub.status.busy": "2022-12-08T15:22:21.028697Z",
     "iopub.status.idle": "2022-12-08T15:22:21.090753Z",
     "shell.execute_reply": "2022-12-08T15:22:21.089904Z",
     "shell.execute_reply.started": "2022-12-08T15:22:21.029215Z"
    }
   },
   "outputs": [],
   "source": [
    "X = np.array(df['image'].to_list())\n"
   ]
  },
  {
   "cell_type": "code",
   "execution_count": 20,
   "metadata": {},
   "outputs": [
    {
     "ename": "ValueError",
     "evalue": "cannot reshape array of size 23708 into shape (23708,newaxis,3)",
     "output_type": "error",
     "traceback": [
      "\u001b[1;31m---------------------------------------------------------------------------\u001b[0m",
      "\u001b[1;31mValueError\u001b[0m                                Traceback (most recent call last)",
      "Cell \u001b[1;32mIn [20], line 1\u001b[0m\n\u001b[1;32m----> 1\u001b[0m X_reshaped1 \u001b[38;5;241m=\u001b[39m \u001b[43mX\u001b[49m\u001b[38;5;241;43m.\u001b[39;49m\u001b[43mreshape\u001b[49m\u001b[43m(\u001b[49m\u001b[43mX\u001b[49m\u001b[38;5;241;43m.\u001b[39;49m\u001b[43mshape\u001b[49m\u001b[43m[\u001b[49m\u001b[38;5;241;43m0\u001b[39;49m\u001b[43m]\u001b[49m\u001b[43m,\u001b[49m\u001b[43m \u001b[49m\u001b[38;5;241;43m-\u001b[39;49m\u001b[38;5;241;43m1\u001b[39;49m\u001b[43m,\u001b[49m\u001b[43m \u001b[49m\u001b[38;5;241;43m3\u001b[39;49m\u001b[43m)\u001b[49m\n\u001b[0;32m      2\u001b[0m X_reshaped1\u001b[38;5;241m.\u001b[39mshape\n",
      "\u001b[1;31mValueError\u001b[0m: cannot reshape array of size 23708 into shape (23708,newaxis,3)"
     ]
    }
   ],
   "source": [
    "X_reshaped1 = X.reshape(X.shape[0], -1, 3)\n",
    "X_reshaped1.shape"
   ]
  },
  {
   "cell_type": "code",
   "execution_count": 85,
   "metadata": {
    "execution": {
     "iopub.execute_input": "2022-12-08T15:22:27.853580Z",
     "iopub.status.busy": "2022-12-08T15:22:27.853287Z",
     "iopub.status.idle": "2022-12-08T15:22:28.307104Z",
     "shell.execute_reply": "2022-12-08T15:22:28.306307Z",
     "shell.execute_reply.started": "2022-12-08T15:22:27.853545Z"
    }
   },
   "outputs": [],
   "source": [
    "X_reshaped1 = X_reshaped1 / 255"
   ]
  },
  {
   "cell_type": "code",
   "execution_count": 21,
   "metadata": {
    "execution": {
     "iopub.execute_input": "2022-12-08T11:41:43.334827Z",
     "iopub.status.busy": "2022-12-08T11:41:43.334178Z",
     "iopub.status.idle": "2022-12-08T11:41:43.353588Z",
     "shell.execute_reply": "2022-12-08T11:41:43.352801Z",
     "shell.execute_reply.started": "2022-12-08T11:41:43.334798Z"
    }
   },
   "outputs": [
    {
     "data": {
      "text/html": [
       "<div>\n",
       "<style scoped>\n",
       "    .dataframe tbody tr th:only-of-type {\n",
       "        vertical-align: middle;\n",
       "    }\n",
       "\n",
       "    .dataframe tbody tr th {\n",
       "        vertical-align: top;\n",
       "    }\n",
       "\n",
       "    .dataframe thead th {\n",
       "        text-align: right;\n",
       "    }\n",
       "</style>\n",
       "<table border=\"1\" class=\"dataframe\">\n",
       "  <thead>\n",
       "    <tr style=\"text-align: right;\">\n",
       "      <th></th>\n",
       "      <th>age</th>\n",
       "      <th>gender</th>\n",
       "    </tr>\n",
       "  </thead>\n",
       "  <tbody>\n",
       "    <tr>\n",
       "      <th>count</th>\n",
       "      <td>23708.000000</td>\n",
       "      <td>23708.000000</td>\n",
       "    </tr>\n",
       "    <tr>\n",
       "      <th>mean</th>\n",
       "      <td>33.303484</td>\n",
       "      <td>0.477349</td>\n",
       "    </tr>\n",
       "    <tr>\n",
       "      <th>std</th>\n",
       "      <td>19.886112</td>\n",
       "      <td>0.499497</td>\n",
       "    </tr>\n",
       "    <tr>\n",
       "      <th>min</th>\n",
       "      <td>1.000000</td>\n",
       "      <td>0.000000</td>\n",
       "    </tr>\n",
       "    <tr>\n",
       "      <th>25%</th>\n",
       "      <td>23.000000</td>\n",
       "      <td>0.000000</td>\n",
       "    </tr>\n",
       "    <tr>\n",
       "      <th>50%</th>\n",
       "      <td>29.000000</td>\n",
       "      <td>0.000000</td>\n",
       "    </tr>\n",
       "    <tr>\n",
       "      <th>75%</th>\n",
       "      <td>45.000000</td>\n",
       "      <td>1.000000</td>\n",
       "    </tr>\n",
       "    <tr>\n",
       "      <th>max</th>\n",
       "      <td>116.000000</td>\n",
       "      <td>1.000000</td>\n",
       "    </tr>\n",
       "  </tbody>\n",
       "</table>\n",
       "</div>"
      ],
      "text/plain": [
       "                age        gender\n",
       "count  23708.000000  23708.000000\n",
       "mean      33.303484      0.477349\n",
       "std       19.886112      0.499497\n",
       "min        1.000000      0.000000\n",
       "25%       23.000000      0.000000\n",
       "50%       29.000000      0.000000\n",
       "75%       45.000000      1.000000\n",
       "max      116.000000      1.000000"
      ]
     },
     "execution_count": 21,
     "metadata": {},
     "output_type": "execute_result"
    }
   ],
   "source": [
    "df.describe()"
   ]
  },
  {
   "cell_type": "code",
   "execution_count": 22,
   "metadata": {
    "execution": {
     "iopub.execute_input": "2022-12-08T09:02:32.660651Z",
     "iopub.status.busy": "2022-12-08T09:02:32.660146Z",
     "iopub.status.idle": "2022-12-08T09:02:32.668822Z",
     "shell.execute_reply": "2022-12-08T09:02:32.668022Z",
     "shell.execute_reply.started": "2022-12-08T09:02:32.660604Z"
    }
   },
   "outputs": [
    {
     "data": {
      "text/plain": [
       "26     2197\n",
       "1      1123\n",
       "28      918\n",
       "35      880\n",
       "24      859\n",
       "       ... \n",
       "115       3\n",
       "91        2\n",
       "101       2\n",
       "103       1\n",
       "111       1\n",
       "Name: age, Length: 104, dtype: int64"
      ]
     },
     "execution_count": 22,
     "metadata": {},
     "output_type": "execute_result"
    }
   ],
   "source": [
    "df.age.value_counts()"
   ]
  },
  {
   "cell_type": "code",
   "execution_count": 23,
   "metadata": {
    "execution": {
     "iopub.execute_input": "2022-12-08T12:08:45.769358Z",
     "iopub.status.busy": "2022-12-08T12:08:45.769095Z",
     "iopub.status.idle": "2022-12-08T12:09:08.238407Z",
     "shell.execute_reply": "2022-12-08T12:09:08.237628Z",
     "shell.execute_reply.started": "2022-12-08T12:08:45.769331Z"
    }
   },
   "outputs": [],
   "source": [
    "df['image'] = df['image'].map(lambda x: np.array(x.split(' '), dtype=np.uint8).reshape(50, 50, 3))"
   ]
  },
  {
   "cell_type": "markdown",
   "metadata": {},
   "source": [
    "# Age prediction¶\n"
   ]
  },
  {
   "cell_type": "code",
   "execution_count": 25,
   "metadata": {
    "execution": {
     "iopub.execute_input": "2022-12-08T12:09:20.278331Z",
     "iopub.status.busy": "2022-12-08T12:09:20.277748Z",
     "iopub.status.idle": "2022-12-08T12:09:20.341700Z",
     "shell.execute_reply": "2022-12-08T12:09:20.340942Z",
     "shell.execute_reply.started": "2022-12-08T12:09:20.278294Z"
    }
   },
   "outputs": [
    {
     "data": {
      "text/plain": [
       "(23708, 50, 50, 3)"
      ]
     },
     "execution_count": 25,
     "metadata": {},
     "output_type": "execute_result"
    }
   ],
   "source": [
    "X = np.array(df['image'].to_list())\n",
    "X_reshaped = X.reshape(X.shape[0], 50, 50, 3)\n",
    "X_reshaped.shape"
   ]
  },
  {
   "cell_type": "code",
   "execution_count": 32,
   "metadata": {
    "execution": {
     "iopub.execute_input": "2022-12-08T12:09:24.209076Z",
     "iopub.status.busy": "2022-12-08T12:09:24.208343Z",
     "iopub.status.idle": "2022-12-08T12:09:24.641908Z",
     "shell.execute_reply": "2022-12-08T12:09:24.641141Z",
     "shell.execute_reply.started": "2022-12-08T12:09:24.209038Z"
    }
   },
   "outputs": [],
   "source": [
    "X_reshaped = X_reshaped / 255"
   ]
  },
  {
   "cell_type": "code",
   "execution_count": 33,
   "metadata": {
    "execution": {
     "iopub.execute_input": "2022-12-08T12:09:25.844938Z",
     "iopub.status.busy": "2022-12-08T12:09:25.844235Z",
     "iopub.status.idle": "2022-12-08T12:09:25.850709Z",
     "shell.execute_reply": "2022-12-08T12:09:25.849929Z",
     "shell.execute_reply.started": "2022-12-08T12:09:25.844884Z"
    }
   },
   "outputs": [
    {
     "data": {
      "text/plain": [
       "(50, 50, 3)"
      ]
     },
     "execution_count": 33,
     "metadata": {},
     "output_type": "execute_result"
    }
   ],
   "source": [
    "input_shape = X_reshaped.shape[1:] \n",
    "input_shape"
   ]
  },
  {
   "cell_type": "code",
   "execution_count": 34,
   "metadata": {
    "execution": {
     "iopub.execute_input": "2022-12-08T12:09:29.904681Z",
     "iopub.status.busy": "2022-12-08T12:09:29.904112Z",
     "iopub.status.idle": "2022-12-08T12:09:29.908644Z",
     "shell.execute_reply": "2022-12-08T12:09:29.907707Z",
     "shell.execute_reply.started": "2022-12-08T12:09:29.904643Z"
    }
   },
   "outputs": [],
   "source": [
    "y = df['age'].values"
   ]
  },
  {
   "cell_type": "code",
   "execution_count": 35,
   "metadata": {
    "execution": {
     "iopub.execute_input": "2022-12-08T12:09:32.001668Z",
     "iopub.status.busy": "2022-12-08T12:09:32.001395Z",
     "iopub.status.idle": "2022-12-08T12:09:32.590472Z",
     "shell.execute_reply": "2022-12-08T12:09:32.589738Z",
     "shell.execute_reply.started": "2022-12-08T12:09:32.001634Z"
    }
   },
   "outputs": [
    {
     "data": {
      "text/plain": [
       "((14224, 50, 50, 3),\n",
       " (14224,),\n",
       " (5690, 50, 50, 3),\n",
       " (5690,),\n",
       " (3794, 50, 50, 3),\n",
       " (3794,))"
      ]
     },
     "execution_count": 35,
     "metadata": {},
     "output_type": "execute_result"
    }
   ],
   "source": [
    "# Train test split\n",
    "X_train, X_testval, y_train, y_testval = train_test_split(X_reshaped, y, test_size=0.4, random_state=42)\n",
    "X_val, X_test, y_val, y_test = train_test_split(X_testval, y_testval, test_size=0.4, random_state=42)\n",
    "X_train.shape, y_train.shape, X_val.shape, y_val.shape, X_test.shape, y_test.shape"
   ]
  },
  {
   "cell_type": "code",
   "execution_count": 37,
   "metadata": {
    "execution": {
     "iopub.execute_input": "2022-12-08T13:28:12.422517Z",
     "iopub.status.busy": "2022-12-08T13:28:12.421773Z",
     "iopub.status.idle": "2022-12-08T13:28:13.092681Z",
     "shell.execute_reply": "2022-12-08T13:28:13.091880Z",
     "shell.execute_reply.started": "2022-12-08T13:28:12.422483Z"
    }
   },
   "outputs": [],
   "source": [
    "# Data Generator \n",
    "datagen = ImageDataGenerator(rotation_range = 10, \n",
    "                             width_shift_range = 0.05, \n",
    "                             height_shift_range = 0.05, \n",
    "                             shear_range = 0.05, \n",
    "                             zoom_range = 0.1, \n",
    "#                              brightness_range = [0.9,1.1], \n",
    "                             horizontal_flip = True) \n",
    "datagen_val = ImageDataGenerator() \n",
    "datagen_test = ImageDataGenerator()\n",
    "\n",
    "# Convert data gen\n",
    "seed = 42\n",
    "train_generator= datagen.flow(X_train, y_train, \n",
    "                              batch_size = 128,\n",
    "                              shuffle = True, \n",
    "                              seed = seed) \n",
    "val_generator= datagen_val.flow(X_val, y_val, \n",
    "                                batch_size = 64,\n",
    "                                shuffle = True, \n",
    "                                seed = seed) "
   ]
  },
  {
   "cell_type": "code",
   "execution_count": 38,
   "metadata": {
    "execution": {
     "iopub.execute_input": "2022-12-08T12:09:44.330538Z",
     "iopub.status.busy": "2022-12-08T12:09:44.330280Z",
     "iopub.status.idle": "2022-12-08T12:09:44.336754Z",
     "shell.execute_reply": "2022-12-08T12:09:44.335909Z",
     "shell.execute_reply.started": "2022-12-08T12:09:44.330511Z"
    }
   },
   "outputs": [],
   "source": [
    "# Algorithms \n",
    "# Stop training when the validation loss metric has stopped decreasing for 5 epochs. \n",
    "early_stopping = EarlyStopping(monitor = 'val_loss', patience = 5, mode = 'min', restore_best_weights = True) \n",
    "# Save the model with the minimum validation loss \n",
    "checkpoint = ModelCheckpoint('best_model.hdf5', monitor = 'val_loss', verbose = 1, mode = 'min',  save_best_only = True) \n",
    "# Reduce learning rate \n",
    "reduce_lr = ReduceLROnPlateau(monitor = 'val_loss', factor = 0.2, patience = 3, min_lr = 0.00001, mode = 'min', verbose = 1) \n"
   ]
  },
  {
   "cell_type": "code",
   "execution_count": 40,
   "metadata": {
    "execution": {
     "iopub.execute_input": "2022-12-08T13:28:16.576270Z",
     "iopub.status.busy": "2022-12-08T13:28:16.576002Z",
     "iopub.status.idle": "2022-12-08T13:52:02.107726Z",
     "shell.execute_reply": "2022-12-08T13:52:02.106806Z",
     "shell.execute_reply.started": "2022-12-08T13:28:16.576240Z"
    }
   },
   "outputs": [
    {
     "name": "stdout",
     "output_type": "stream",
     "text": [
      "WARNING:tensorflow:`input_shape` is undefined or non-square, or `rows` is not in [96, 128, 160, 192, 224]. Weights for input shape (224, 224) will be loaded as the default.\n",
      "Model: \"sequential_1\"\n",
      "_________________________________________________________________\n",
      "Layer (type)                 Output Shape              Param #   \n",
      "=================================================================\n",
      "mobilenetv2_1.00_224 (Functi (None, 2, 2, 1280)        2257984   \n",
      "_________________________________________________________________\n",
      "global_max_pooling2d_1 (Glob (None, 1280)              0         \n",
      "_________________________________________________________________\n",
      "flatten_1 (Flatten)          (None, 1280)              0         \n",
      "_________________________________________________________________\n",
      "dense_4 (Dense)              (None, 512)               655872    \n",
      "_________________________________________________________________\n",
      "dropout_3 (Dropout)          (None, 512)               0         \n",
      "_________________________________________________________________\n",
      "dense_5 (Dense)              (None, 256)               131328    \n",
      "_________________________________________________________________\n",
      "dropout_4 (Dropout)          (None, 256)               0         \n",
      "_________________________________________________________________\n",
      "dense_6 (Dense)              (None, 128)               32896     \n",
      "_________________________________________________________________\n",
      "dropout_5 (Dropout)          (None, 128)               0         \n",
      "_________________________________________________________________\n",
      "dense_7 (Dense)              (None, 1)                 129       \n",
      "=================================================================\n",
      "Total params: 3,078,209\n",
      "Trainable params: 3,044,097\n",
      "Non-trainable params: 34,112\n",
      "_________________________________________________________________\n",
      "None\n",
      "Epoch 1/10\n",
      "112/112 [==============================] - 17s 117ms/step - loss: 259.8377 - val_loss: 1736.7334\n",
      "\n",
      "Epoch 00001: val_loss improved from inf to 1736.73340, saving model to best_model.hdf5\n"
     ]
    },
    {
     "name": "stderr",
     "output_type": "stream",
     "text": [
      "C:\\Users\\Akhil\\anaconda3\\envs\\ML\\lib\\site-packages\\keras\\utils\\generic_utils.py:494: CustomMaskWarning: Custom mask layers require a config and must override get_config. When loading, the custom mask layer must be passed to the custom_objects argument.\n",
      "  warnings.warn('Custom mask layers require a config and must override '\n"
     ]
    },
    {
     "name": "stdout",
     "output_type": "stream",
     "text": [
      "Epoch 2/10\n",
      "112/112 [==============================] - ETA: 0s - loss: 164.1046"
     ]
    },
    {
     "ename": "KeyboardInterrupt",
     "evalue": "",
     "output_type": "error",
     "traceback": [
      "\u001b[1;31m---------------------------------------------------------------------------\u001b[0m",
      "\u001b[1;31mKeyboardInterrupt\u001b[0m                         Traceback (most recent call last)",
      "Cell \u001b[1;32mIn [40], line 28\u001b[0m\n\u001b[0;32m     25\u001b[0m model \u001b[38;5;241m=\u001b[39m build_model(mbnv2) \n\u001b[0;32m     27\u001b[0m \u001b[38;5;66;03m#Model Trainning \u001b[39;00m\n\u001b[1;32m---> 28\u001b[0m history \u001b[38;5;241m=\u001b[39m \u001b[43mmodel\u001b[49m\u001b[38;5;241;43m.\u001b[39;49m\u001b[43mfit\u001b[49m\u001b[43m(\u001b[49m\u001b[43mtrain_generator\u001b[49m\u001b[43m,\u001b[49m\u001b[43m \u001b[49m\u001b[43mvalidation_data\u001b[49m\u001b[43m \u001b[49m\u001b[38;5;241;43m=\u001b[39;49m\u001b[43m \u001b[49m\u001b[43mval_generator\u001b[49m\u001b[43m,\u001b[49m\u001b[43m \u001b[49m\u001b[43mepochs\u001b[49m\u001b[43m \u001b[49m\u001b[38;5;241;43m=\u001b[39;49m\u001b[43m \u001b[49m\u001b[38;5;241;43m10\u001b[39;49m\u001b[43m,\u001b[49m\u001b[43m \u001b[49m\u001b[43mcallbacks\u001b[49m\u001b[43m \u001b[49m\u001b[38;5;241;43m=\u001b[39;49m\u001b[43m \u001b[49m\u001b[43m[\u001b[49m\u001b[43mcheckpoint\u001b[49m\u001b[43m,\u001b[49m\u001b[43m \u001b[49m\u001b[43mreduce_lr\u001b[49m\u001b[43m]\u001b[49m\u001b[43m)\u001b[49m \n\u001b[0;32m     29\u001b[0m \u001b[38;5;66;03m# history = model.fit(X_train, y_train, validation_data = (X_val, y_val), batch_size = 64, epochs = 100, callbacks = [checkpoint, reduce_lr]) \u001b[39;00m\n\u001b[0;32m     30\u001b[0m \n\u001b[0;32m     31\u001b[0m \u001b[38;5;66;03m# Ploting acc and loss \u001b[39;00m\n\u001b[0;32m     32\u001b[0m \u001b[38;5;28;01mfrom\u001b[39;00m \u001b[38;5;21;01mmatplotlib\u001b[39;00m \u001b[38;5;28;01mimport\u001b[39;00m pyplot \u001b[38;5;28;01mas\u001b[39;00m plt\n",
      "File \u001b[1;32m~\\anaconda3\\envs\\ML\\lib\\site-packages\\keras\\engine\\training.py:1215\u001b[0m, in \u001b[0;36mModel.fit\u001b[1;34m(self, x, y, batch_size, epochs, verbose, callbacks, validation_split, validation_data, shuffle, class_weight, sample_weight, initial_epoch, steps_per_epoch, validation_steps, validation_batch_size, validation_freq, max_queue_size, workers, use_multiprocessing)\u001b[0m\n\u001b[0;32m   1201\u001b[0m \u001b[38;5;28;01mif\u001b[39;00m \u001b[38;5;28mgetattr\u001b[39m(\u001b[38;5;28mself\u001b[39m, \u001b[38;5;124m'\u001b[39m\u001b[38;5;124m_eval_data_handler\u001b[39m\u001b[38;5;124m'\u001b[39m, \u001b[38;5;28;01mNone\u001b[39;00m) \u001b[38;5;129;01mis\u001b[39;00m \u001b[38;5;28;01mNone\u001b[39;00m:\n\u001b[0;32m   1202\u001b[0m   \u001b[38;5;28mself\u001b[39m\u001b[38;5;241m.\u001b[39m_eval_data_handler \u001b[38;5;241m=\u001b[39m data_adapter\u001b[38;5;241m.\u001b[39mget_data_handler(\n\u001b[0;32m   1203\u001b[0m       x\u001b[38;5;241m=\u001b[39mval_x,\n\u001b[0;32m   1204\u001b[0m       y\u001b[38;5;241m=\u001b[39mval_y,\n\u001b[1;32m   (...)\u001b[0m\n\u001b[0;32m   1213\u001b[0m       model\u001b[38;5;241m=\u001b[39m\u001b[38;5;28mself\u001b[39m,\n\u001b[0;32m   1214\u001b[0m       steps_per_execution\u001b[38;5;241m=\u001b[39m\u001b[38;5;28mself\u001b[39m\u001b[38;5;241m.\u001b[39m_steps_per_execution)\n\u001b[1;32m-> 1215\u001b[0m val_logs \u001b[38;5;241m=\u001b[39m \u001b[38;5;28;43mself\u001b[39;49m\u001b[38;5;241;43m.\u001b[39;49m\u001b[43mevaluate\u001b[49m\u001b[43m(\u001b[49m\n\u001b[0;32m   1216\u001b[0m \u001b[43m    \u001b[49m\u001b[43mx\u001b[49m\u001b[38;5;241;43m=\u001b[39;49m\u001b[43mval_x\u001b[49m\u001b[43m,\u001b[49m\n\u001b[0;32m   1217\u001b[0m \u001b[43m    \u001b[49m\u001b[43my\u001b[49m\u001b[38;5;241;43m=\u001b[39;49m\u001b[43mval_y\u001b[49m\u001b[43m,\u001b[49m\n\u001b[0;32m   1218\u001b[0m \u001b[43m    \u001b[49m\u001b[43msample_weight\u001b[49m\u001b[38;5;241;43m=\u001b[39;49m\u001b[43mval_sample_weight\u001b[49m\u001b[43m,\u001b[49m\n\u001b[0;32m   1219\u001b[0m \u001b[43m    \u001b[49m\u001b[43mbatch_size\u001b[49m\u001b[38;5;241;43m=\u001b[39;49m\u001b[43mvalidation_batch_size\u001b[49m\u001b[43m \u001b[49m\u001b[38;5;129;43;01mor\u001b[39;49;00m\u001b[43m \u001b[49m\u001b[43mbatch_size\u001b[49m\u001b[43m,\u001b[49m\n\u001b[0;32m   1220\u001b[0m \u001b[43m    \u001b[49m\u001b[43msteps\u001b[49m\u001b[38;5;241;43m=\u001b[39;49m\u001b[43mvalidation_steps\u001b[49m\u001b[43m,\u001b[49m\n\u001b[0;32m   1221\u001b[0m \u001b[43m    \u001b[49m\u001b[43mcallbacks\u001b[49m\u001b[38;5;241;43m=\u001b[39;49m\u001b[43mcallbacks\u001b[49m\u001b[43m,\u001b[49m\n\u001b[0;32m   1222\u001b[0m \u001b[43m    \u001b[49m\u001b[43mmax_queue_size\u001b[49m\u001b[38;5;241;43m=\u001b[39;49m\u001b[43mmax_queue_size\u001b[49m\u001b[43m,\u001b[49m\n\u001b[0;32m   1223\u001b[0m \u001b[43m    \u001b[49m\u001b[43mworkers\u001b[49m\u001b[38;5;241;43m=\u001b[39;49m\u001b[43mworkers\u001b[49m\u001b[43m,\u001b[49m\n\u001b[0;32m   1224\u001b[0m \u001b[43m    \u001b[49m\u001b[43muse_multiprocessing\u001b[49m\u001b[38;5;241;43m=\u001b[39;49m\u001b[43muse_multiprocessing\u001b[49m\u001b[43m,\u001b[49m\n\u001b[0;32m   1225\u001b[0m \u001b[43m    \u001b[49m\u001b[43mreturn_dict\u001b[49m\u001b[38;5;241;43m=\u001b[39;49m\u001b[38;5;28;43;01mTrue\u001b[39;49;00m\u001b[43m,\u001b[49m\n\u001b[0;32m   1226\u001b[0m \u001b[43m    \u001b[49m\u001b[43m_use_cached_eval_dataset\u001b[49m\u001b[38;5;241;43m=\u001b[39;49m\u001b[38;5;28;43;01mTrue\u001b[39;49;00m\u001b[43m)\u001b[49m\n\u001b[0;32m   1227\u001b[0m val_logs \u001b[38;5;241m=\u001b[39m {\u001b[38;5;124m'\u001b[39m\u001b[38;5;124mval_\u001b[39m\u001b[38;5;124m'\u001b[39m \u001b[38;5;241m+\u001b[39m name: val \u001b[38;5;28;01mfor\u001b[39;00m name, val \u001b[38;5;129;01min\u001b[39;00m val_logs\u001b[38;5;241m.\u001b[39mitems()}\n\u001b[0;32m   1228\u001b[0m epoch_logs\u001b[38;5;241m.\u001b[39mupdate(val_logs)\n",
      "File \u001b[1;32m~\\anaconda3\\envs\\ML\\lib\\site-packages\\keras\\engine\\training.py:1501\u001b[0m, in \u001b[0;36mModel.evaluate\u001b[1;34m(self, x, y, batch_size, verbose, sample_weight, steps, callbacks, max_queue_size, workers, use_multiprocessing, return_dict, **kwargs)\u001b[0m\n\u001b[0;32m   1499\u001b[0m \u001b[38;5;28;01mwith\u001b[39;00m tf\u001b[38;5;241m.\u001b[39mprofiler\u001b[38;5;241m.\u001b[39mexperimental\u001b[38;5;241m.\u001b[39mTrace(\u001b[38;5;124m'\u001b[39m\u001b[38;5;124mtest\u001b[39m\u001b[38;5;124m'\u001b[39m, step_num\u001b[38;5;241m=\u001b[39mstep, _r\u001b[38;5;241m=\u001b[39m\u001b[38;5;241m1\u001b[39m):\n\u001b[0;32m   1500\u001b[0m   callbacks\u001b[38;5;241m.\u001b[39mon_test_batch_begin(step)\n\u001b[1;32m-> 1501\u001b[0m   tmp_logs \u001b[38;5;241m=\u001b[39m \u001b[38;5;28;43mself\u001b[39;49m\u001b[38;5;241;43m.\u001b[39;49m\u001b[43mtest_function\u001b[49m\u001b[43m(\u001b[49m\u001b[43miterator\u001b[49m\u001b[43m)\u001b[49m\n\u001b[0;32m   1502\u001b[0m   \u001b[38;5;28;01mif\u001b[39;00m data_handler\u001b[38;5;241m.\u001b[39mshould_sync:\n\u001b[0;32m   1503\u001b[0m     context\u001b[38;5;241m.\u001b[39masync_wait()\n",
      "File \u001b[1;32m~\\anaconda3\\envs\\ML\\lib\\site-packages\\tensorflow\\python\\eager\\def_function.py:885\u001b[0m, in \u001b[0;36mFunction.__call__\u001b[1;34m(self, *args, **kwds)\u001b[0m\n\u001b[0;32m    882\u001b[0m compiler \u001b[38;5;241m=\u001b[39m \u001b[38;5;124m\"\u001b[39m\u001b[38;5;124mxla\u001b[39m\u001b[38;5;124m\"\u001b[39m \u001b[38;5;28;01mif\u001b[39;00m \u001b[38;5;28mself\u001b[39m\u001b[38;5;241m.\u001b[39m_jit_compile \u001b[38;5;28;01melse\u001b[39;00m \u001b[38;5;124m\"\u001b[39m\u001b[38;5;124mnonXla\u001b[39m\u001b[38;5;124m\"\u001b[39m\n\u001b[0;32m    884\u001b[0m \u001b[38;5;28;01mwith\u001b[39;00m OptionalXlaContext(\u001b[38;5;28mself\u001b[39m\u001b[38;5;241m.\u001b[39m_jit_compile):\n\u001b[1;32m--> 885\u001b[0m   result \u001b[38;5;241m=\u001b[39m \u001b[38;5;28mself\u001b[39m\u001b[38;5;241m.\u001b[39m_call(\u001b[38;5;241m*\u001b[39margs, \u001b[38;5;241m*\u001b[39m\u001b[38;5;241m*\u001b[39mkwds)\n\u001b[0;32m    887\u001b[0m new_tracing_count \u001b[38;5;241m=\u001b[39m \u001b[38;5;28mself\u001b[39m\u001b[38;5;241m.\u001b[39mexperimental_get_tracing_count()\n\u001b[0;32m    888\u001b[0m without_tracing \u001b[38;5;241m=\u001b[39m (tracing_count \u001b[38;5;241m==\u001b[39m new_tracing_count)\n",
      "File \u001b[1;32m~\\anaconda3\\envs\\ML\\lib\\site-packages\\tensorflow\\python\\eager\\def_function.py:924\u001b[0m, in \u001b[0;36mFunction._call\u001b[1;34m(self, *args, **kwds)\u001b[0m\n\u001b[0;32m    921\u001b[0m \u001b[38;5;28mself\u001b[39m\u001b[38;5;241m.\u001b[39m_lock\u001b[38;5;241m.\u001b[39mrelease()\n\u001b[0;32m    922\u001b[0m \u001b[38;5;66;03m# In this case we have not created variables on the first call. So we can\u001b[39;00m\n\u001b[0;32m    923\u001b[0m \u001b[38;5;66;03m# run the first trace but we should fail if variables are created.\u001b[39;00m\n\u001b[1;32m--> 924\u001b[0m results \u001b[38;5;241m=\u001b[39m \u001b[38;5;28mself\u001b[39m\u001b[38;5;241m.\u001b[39m_stateful_fn(\u001b[38;5;241m*\u001b[39margs, \u001b[38;5;241m*\u001b[39m\u001b[38;5;241m*\u001b[39mkwds)\n\u001b[0;32m    925\u001b[0m \u001b[38;5;28;01mif\u001b[39;00m \u001b[38;5;28mself\u001b[39m\u001b[38;5;241m.\u001b[39m_created_variables \u001b[38;5;129;01mand\u001b[39;00m \u001b[38;5;129;01mnot\u001b[39;00m ALLOW_DYNAMIC_VARIABLE_CREATION:\n\u001b[0;32m    926\u001b[0m   \u001b[38;5;28;01mraise\u001b[39;00m \u001b[38;5;167;01mValueError\u001b[39;00m(\u001b[38;5;124m\"\u001b[39m\u001b[38;5;124mCreating variables on a non-first call to a function\u001b[39m\u001b[38;5;124m\"\u001b[39m\n\u001b[0;32m    927\u001b[0m                    \u001b[38;5;124m\"\u001b[39m\u001b[38;5;124m decorated with tf.function.\u001b[39m\u001b[38;5;124m\"\u001b[39m)\n",
      "File \u001b[1;32m~\\anaconda3\\envs\\ML\\lib\\site-packages\\tensorflow\\python\\eager\\function.py:3039\u001b[0m, in \u001b[0;36mFunction.__call__\u001b[1;34m(self, *args, **kwargs)\u001b[0m\n\u001b[0;32m   3036\u001b[0m \u001b[38;5;28;01mwith\u001b[39;00m \u001b[38;5;28mself\u001b[39m\u001b[38;5;241m.\u001b[39m_lock:\n\u001b[0;32m   3037\u001b[0m   (graph_function,\n\u001b[0;32m   3038\u001b[0m    filtered_flat_args) \u001b[38;5;241m=\u001b[39m \u001b[38;5;28mself\u001b[39m\u001b[38;5;241m.\u001b[39m_maybe_define_function(args, kwargs)\n\u001b[1;32m-> 3039\u001b[0m \u001b[38;5;28;01mreturn\u001b[39;00m \u001b[43mgraph_function\u001b[49m\u001b[38;5;241;43m.\u001b[39;49m\u001b[43m_call_flat\u001b[49m\u001b[43m(\u001b[49m\n\u001b[0;32m   3040\u001b[0m \u001b[43m    \u001b[49m\u001b[43mfiltered_flat_args\u001b[49m\u001b[43m,\u001b[49m\u001b[43m \u001b[49m\u001b[43mcaptured_inputs\u001b[49m\u001b[38;5;241;43m=\u001b[39;49m\u001b[43mgraph_function\u001b[49m\u001b[38;5;241;43m.\u001b[39;49m\u001b[43mcaptured_inputs\u001b[49m\u001b[43m)\u001b[49m\n",
      "File \u001b[1;32m~\\anaconda3\\envs\\ML\\lib\\site-packages\\tensorflow\\python\\eager\\function.py:1963\u001b[0m, in \u001b[0;36mConcreteFunction._call_flat\u001b[1;34m(self, args, captured_inputs, cancellation_manager)\u001b[0m\n\u001b[0;32m   1959\u001b[0m possible_gradient_type \u001b[38;5;241m=\u001b[39m gradients_util\u001b[38;5;241m.\u001b[39mPossibleTapeGradientTypes(args)\n\u001b[0;32m   1960\u001b[0m \u001b[38;5;28;01mif\u001b[39;00m (possible_gradient_type \u001b[38;5;241m==\u001b[39m gradients_util\u001b[38;5;241m.\u001b[39mPOSSIBLE_GRADIENT_TYPES_NONE\n\u001b[0;32m   1961\u001b[0m     \u001b[38;5;129;01mand\u001b[39;00m executing_eagerly):\n\u001b[0;32m   1962\u001b[0m   \u001b[38;5;66;03m# No tape is watching; skip to running the function.\u001b[39;00m\n\u001b[1;32m-> 1963\u001b[0m   \u001b[38;5;28;01mreturn\u001b[39;00m \u001b[38;5;28mself\u001b[39m\u001b[38;5;241m.\u001b[39m_build_call_outputs(\u001b[38;5;28;43mself\u001b[39;49m\u001b[38;5;241;43m.\u001b[39;49m\u001b[43m_inference_function\u001b[49m\u001b[38;5;241;43m.\u001b[39;49m\u001b[43mcall\u001b[49m\u001b[43m(\u001b[49m\n\u001b[0;32m   1964\u001b[0m \u001b[43m      \u001b[49m\u001b[43mctx\u001b[49m\u001b[43m,\u001b[49m\u001b[43m \u001b[49m\u001b[43margs\u001b[49m\u001b[43m,\u001b[49m\u001b[43m \u001b[49m\u001b[43mcancellation_manager\u001b[49m\u001b[38;5;241;43m=\u001b[39;49m\u001b[43mcancellation_manager\u001b[49m\u001b[43m)\u001b[49m)\n\u001b[0;32m   1965\u001b[0m forward_backward \u001b[38;5;241m=\u001b[39m \u001b[38;5;28mself\u001b[39m\u001b[38;5;241m.\u001b[39m_select_forward_and_backward_functions(\n\u001b[0;32m   1966\u001b[0m     args,\n\u001b[0;32m   1967\u001b[0m     possible_gradient_type,\n\u001b[0;32m   1968\u001b[0m     executing_eagerly)\n\u001b[0;32m   1969\u001b[0m forward_function, args_with_tangents \u001b[38;5;241m=\u001b[39m forward_backward\u001b[38;5;241m.\u001b[39mforward()\n",
      "File \u001b[1;32m~\\anaconda3\\envs\\ML\\lib\\site-packages\\tensorflow\\python\\eager\\function.py:591\u001b[0m, in \u001b[0;36m_EagerDefinedFunction.call\u001b[1;34m(self, ctx, args, cancellation_manager)\u001b[0m\n\u001b[0;32m    589\u001b[0m \u001b[38;5;28;01mwith\u001b[39;00m _InterpolateFunctionError(\u001b[38;5;28mself\u001b[39m):\n\u001b[0;32m    590\u001b[0m   \u001b[38;5;28;01mif\u001b[39;00m cancellation_manager \u001b[38;5;129;01mis\u001b[39;00m \u001b[38;5;28;01mNone\u001b[39;00m:\n\u001b[1;32m--> 591\u001b[0m     outputs \u001b[38;5;241m=\u001b[39m \u001b[43mexecute\u001b[49m\u001b[38;5;241;43m.\u001b[39;49m\u001b[43mexecute\u001b[49m\u001b[43m(\u001b[49m\n\u001b[0;32m    592\u001b[0m \u001b[43m        \u001b[49m\u001b[38;5;28;43mstr\u001b[39;49m\u001b[43m(\u001b[49m\u001b[38;5;28;43mself\u001b[39;49m\u001b[38;5;241;43m.\u001b[39;49m\u001b[43msignature\u001b[49m\u001b[38;5;241;43m.\u001b[39;49m\u001b[43mname\u001b[49m\u001b[43m)\u001b[49m\u001b[43m,\u001b[49m\n\u001b[0;32m    593\u001b[0m \u001b[43m        \u001b[49m\u001b[43mnum_outputs\u001b[49m\u001b[38;5;241;43m=\u001b[39;49m\u001b[38;5;28;43mself\u001b[39;49m\u001b[38;5;241;43m.\u001b[39;49m\u001b[43m_num_outputs\u001b[49m\u001b[43m,\u001b[49m\n\u001b[0;32m    594\u001b[0m \u001b[43m        \u001b[49m\u001b[43minputs\u001b[49m\u001b[38;5;241;43m=\u001b[39;49m\u001b[43margs\u001b[49m\u001b[43m,\u001b[49m\n\u001b[0;32m    595\u001b[0m \u001b[43m        \u001b[49m\u001b[43mattrs\u001b[49m\u001b[38;5;241;43m=\u001b[39;49m\u001b[43mattrs\u001b[49m\u001b[43m,\u001b[49m\n\u001b[0;32m    596\u001b[0m \u001b[43m        \u001b[49m\u001b[43mctx\u001b[49m\u001b[38;5;241;43m=\u001b[39;49m\u001b[43mctx\u001b[49m\u001b[43m)\u001b[49m\n\u001b[0;32m    597\u001b[0m   \u001b[38;5;28;01melse\u001b[39;00m:\n\u001b[0;32m    598\u001b[0m     outputs \u001b[38;5;241m=\u001b[39m execute\u001b[38;5;241m.\u001b[39mexecute_with_cancellation(\n\u001b[0;32m    599\u001b[0m         \u001b[38;5;28mstr\u001b[39m(\u001b[38;5;28mself\u001b[39m\u001b[38;5;241m.\u001b[39msignature\u001b[38;5;241m.\u001b[39mname),\n\u001b[0;32m    600\u001b[0m         num_outputs\u001b[38;5;241m=\u001b[39m\u001b[38;5;28mself\u001b[39m\u001b[38;5;241m.\u001b[39m_num_outputs,\n\u001b[1;32m   (...)\u001b[0m\n\u001b[0;32m    603\u001b[0m         ctx\u001b[38;5;241m=\u001b[39mctx,\n\u001b[0;32m    604\u001b[0m         cancellation_manager\u001b[38;5;241m=\u001b[39mcancellation_manager)\n",
      "File \u001b[1;32m~\\anaconda3\\envs\\ML\\lib\\site-packages\\tensorflow\\python\\eager\\execute.py:59\u001b[0m, in \u001b[0;36mquick_execute\u001b[1;34m(op_name, num_outputs, inputs, attrs, ctx, name)\u001b[0m\n\u001b[0;32m     57\u001b[0m \u001b[38;5;28;01mtry\u001b[39;00m:\n\u001b[0;32m     58\u001b[0m   ctx\u001b[38;5;241m.\u001b[39mensure_initialized()\n\u001b[1;32m---> 59\u001b[0m   tensors \u001b[38;5;241m=\u001b[39m \u001b[43mpywrap_tfe\u001b[49m\u001b[38;5;241;43m.\u001b[39;49m\u001b[43mTFE_Py_Execute\u001b[49m\u001b[43m(\u001b[49m\u001b[43mctx\u001b[49m\u001b[38;5;241;43m.\u001b[39;49m\u001b[43m_handle\u001b[49m\u001b[43m,\u001b[49m\u001b[43m \u001b[49m\u001b[43mdevice_name\u001b[49m\u001b[43m,\u001b[49m\u001b[43m \u001b[49m\u001b[43mop_name\u001b[49m\u001b[43m,\u001b[49m\n\u001b[0;32m     60\u001b[0m \u001b[43m                                      \u001b[49m\u001b[43minputs\u001b[49m\u001b[43m,\u001b[49m\u001b[43m \u001b[49m\u001b[43mattrs\u001b[49m\u001b[43m,\u001b[49m\u001b[43m \u001b[49m\u001b[43mnum_outputs\u001b[49m\u001b[43m)\u001b[49m\n\u001b[0;32m     61\u001b[0m \u001b[38;5;28;01mexcept\u001b[39;00m core\u001b[38;5;241m.\u001b[39m_NotOkStatusException \u001b[38;5;28;01mas\u001b[39;00m e:\n\u001b[0;32m     62\u001b[0m   \u001b[38;5;28;01mif\u001b[39;00m name \u001b[38;5;129;01mis\u001b[39;00m \u001b[38;5;129;01mnot\u001b[39;00m \u001b[38;5;28;01mNone\u001b[39;00m:\n",
      "\u001b[1;31mKeyboardInterrupt\u001b[0m: "
     ]
    }
   ],
   "source": [
    "# Import Model \n",
    "# MobileNetV2 - 14MB - 71.3% - 90.1% - 3.5M - 105\n",
    "from tensorflow.keras.applications import MobileNetV2, EfficientNetB3\n",
    "mbnv2 = MobileNetV2(input_shape = input_shape, include_top = False, weights = 'imagenet') \n",
    "# Definition Model \n",
    "def build_model(base_modelx):\n",
    "    model = Sequential(base_modelx) \n",
    "    model.add(GlobalMaxPooling2D())\n",
    "    model.add(Flatten())\n",
    "    \n",
    "    model.add(Dense(512,activation ='relu',kernel_regularizer=regularizers.l2(0.01))) \n",
    "    model.add(Dropout(0.1))\n",
    "    \n",
    "    model.add(Dense(256,activation ='relu',kernel_regularizer=regularizers.l2(0.01))) \n",
    "    model.add(Dropout(0.2))\n",
    "    \n",
    "    model.add(Dense(128,activation ='relu',kernel_regularizer=regularizers.l2(0.01))) \n",
    "    model.add(Dropout(0.3))\n",
    "    \n",
    "    model.add(Dense(1))\n",
    "    print(model.summary())\n",
    "    model.compile(optimizer='adam', loss='mse') \n",
    "    return model\n",
    "\n",
    "model = build_model(mbnv2) \n",
    "\n",
    "#Model Trainning \n",
    "history = model.fit(train_generator, validation_data = val_generator, epochs = 10, callbacks = [checkpoint, reduce_lr]) \n",
    "# history = model.fit(X_train, y_train, validation_data = (X_val, y_val), batch_size = 64, epochs = 100, callbacks = [checkpoint, reduce_lr]) \n"
   ]
  },
  {
   "cell_type": "code",
   "execution_count": null,
   "metadata": {},
   "outputs": [],
   "source": [
    "\n",
    "# Ploting acc and loss \n",
    "from matplotlib import pyplot as plt\n",
    "# #  \"Accuracy\"\n",
    "# plt.plot(history.history['accuracy'])\n",
    "# plt.plot(history.history['val_accuracy'])\n",
    "# plt.title('model accuracy')\n",
    "# plt.ylabel('accuracy')\n",
    "# plt.xlabel('epoch')\n",
    "# plt.legend(['train', 'val'], loc='upper left')\n",
    "# plt.show()\n",
    "# \"Loss\"\n",
    "plt.plot(history.history['loss'])\n",
    "plt.plot(history.history['val_loss'])\n",
    "plt.title('model loss')\n",
    "plt.ylabel('loss')\n",
    "plt.xlabel('epoch')\n",
    "plt.legend(['train', 'val'], loc='upper left')\n",
    "plt.show()"
   ]
  },
  {
   "cell_type": "code",
   "execution_count": null,
   "metadata": {
    "execution": {
     "iopub.execute_input": "2022-12-08T13:58:09.551910Z",
     "iopub.status.busy": "2022-12-08T13:58:09.551606Z",
     "iopub.status.idle": "2022-12-08T13:58:09.878510Z",
     "shell.execute_reply": "2022-12-08T13:58:09.877724Z",
     "shell.execute_reply.started": "2022-12-08T13:58:09.551858Z"
    }
   },
   "outputs": [],
   "source": [
    "pd.DataFrame(history.history).plot();\n",
    "plt.savefig('./MSE_loss_age.png')"
   ]
  },
  {
   "cell_type": "code",
   "execution_count": 36,
   "metadata": {
    "execution": {
     "iopub.execute_input": "2022-12-08T13:59:38.302324Z",
     "iopub.status.busy": "2022-12-08T13:59:38.301737Z",
     "iopub.status.idle": "2022-12-08T13:59:39.700405Z",
     "shell.execute_reply": "2022-12-08T13:59:39.699697Z",
     "shell.execute_reply.started": "2022-12-08T13:59:38.302288Z"
    }
   },
   "outputs": [
    {
     "name": "stdout",
     "output_type": "stream",
     "text": [
      "119/119 [==============================] - 1s 9ms/step - loss: 72.5606\n"
     ]
    },
    {
     "data": {
      "text/plain": [
       "72.5605697631836"
      ]
     },
     "execution_count": 36,
     "metadata": {},
     "output_type": "execute_result"
    }
   ],
   "source": [
    "valid_score = model.evaluate(X_test, y_test, verbose=1)\n",
    "valid_score"
   ]
  },
  {
   "cell_type": "code",
   "execution_count": 44,
   "metadata": {
    "execution": {
     "iopub.execute_input": "2022-12-08T14:01:46.079942Z",
     "iopub.status.busy": "2022-12-08T14:01:46.079651Z",
     "iopub.status.idle": "2022-12-08T14:01:47.176527Z",
     "shell.execute_reply": "2022-12-08T14:01:47.175785Z",
     "shell.execute_reply.started": "2022-12-08T14:01:46.079910Z"
    }
   },
   "outputs": [
    {
     "data": {
      "text/plain": [
       "array([[28.],\n",
       "       [ 8.],\n",
       "       [48.],\n",
       "       ...,\n",
       "       [23.],\n",
       "       [34.],\n",
       "       [24.]], dtype=float32)"
      ]
     },
     "execution_count": 44,
     "metadata": {},
     "output_type": "execute_result"
    }
   ],
   "source": [
    "y_pred = np.round(model.predict(X_test))\n",
    "y_pred\n"
   ]
  },
  {
   "cell_type": "code",
   "execution_count": 45,
   "metadata": {
    "execution": {
     "iopub.execute_input": "2022-12-08T14:02:17.474314Z",
     "iopub.status.busy": "2022-12-08T14:02:17.473926Z",
     "iopub.status.idle": "2022-12-08T14:02:17.481525Z",
     "shell.execute_reply": "2022-12-08T14:02:17.480704Z",
     "shell.execute_reply.started": "2022-12-08T14:02:17.474269Z"
    }
   },
   "outputs": [
    {
     "name": "stdout",
     "output_type": "stream",
     "text": [
      "MAE: 5.821033210332104\n"
     ]
    }
   ],
   "source": [
    "print(\"MAE: {}\".format(mean_absolute_error(y_test, y_pred)))"
   ]
  },
  {
   "cell_type": "markdown",
   "metadata": {},
   "source": [
    "\n",
    "# Gender prediction¶\n"
   ]
  },
  {
   "cell_type": "code",
   "execution_count": 47,
   "metadata": {
    "execution": {
     "iopub.execute_input": "2022-12-08T14:02:54.621217Z",
     "iopub.status.busy": "2022-12-08T14:02:54.620769Z",
     "iopub.status.idle": "2022-12-08T14:02:55.256500Z",
     "shell.execute_reply": "2022-12-08T14:02:55.255636Z",
     "shell.execute_reply.started": "2022-12-08T14:02:54.621177Z"
    }
   },
   "outputs": [
    {
     "data": {
      "text/plain": [
       "((14224, 50, 50, 3),\n",
       " (14224,),\n",
       " (5690, 50, 50, 3),\n",
       " (5690,),\n",
       " (3794, 50, 50, 3),\n",
       " (3794,))"
      ]
     },
     "execution_count": 47,
     "metadata": {},
     "output_type": "execute_result"
    }
   ],
   "source": [
    "y = df['gender'].values\n",
    "# Train test split\n",
    "X_train, X_testval, y_train, y_testval = train_test_split(X_reshaped, y, test_size=0.4, random_state=42)\n",
    "X_val, X_test, y_val, y_test = train_test_split(X_testval, y_testval, test_size=0.4, random_state=42)\n",
    "X_train.shape, y_train.shape, X_val.shape, y_val.shape, X_test.shape, y_test.shape"
   ]
  },
  {
   "cell_type": "code",
   "execution_count": 48,
   "metadata": {
    "execution": {
     "iopub.execute_input": "2022-12-08T14:05:35.830957Z",
     "iopub.status.busy": "2022-12-08T14:05:35.830641Z",
     "iopub.status.idle": "2022-12-08T14:05:36.099425Z",
     "shell.execute_reply": "2022-12-08T14:05:36.098527Z",
     "shell.execute_reply.started": "2022-12-08T14:05:35.830924Z"
    }
   },
   "outputs": [],
   "source": [
    "# Data Generator \n",
    "datagen = ImageDataGenerator(rotation_range = 10, \n",
    "                             width_shift_range = 0.05, \n",
    "                             height_shift_range = 0.05, \n",
    "                             shear_range = 0.05, \n",
    "                             zoom_range = 0.1, \n",
    "#                              brightness_range = [0.9,1.1], \n",
    "                             horizontal_flip = True) \n",
    "datagen_val = ImageDataGenerator() \n",
    "datagen_test = ImageDataGenerator()\n",
    "\n",
    "# Convert data gen\n",
    "seed = 42\n",
    "train_generator= datagen.flow(X_train, y_train, \n",
    "                              batch_size = 128,\n",
    "                              shuffle = True, \n",
    "                              seed = seed) \n",
    "val_generator= datagen_val.flow(X_val, y_val, \n",
    "                                batch_size = 64,\n",
    "                                shuffle = True, \n",
    "                                seed = seed) "
   ]
  },
  {
   "cell_type": "code",
   "execution_count": null,
   "metadata": {},
   "outputs": [],
   "source": [
    "# Algorithms \n",
    "# Stop training when the validation loss metric has stopped decreasing for 5 epochs. \n",
    "early_stopping = EarlyStopping(monitor = 'val_loss', patience = 5, mode = 'min', restore_best_weights = True) \n",
    "# Save the model with the minimum validation loss \n",
    "checkpoint = ModelCheckpoint('best_model_gender.hdf5', monitor = 'val_loss', verbose = 1, mode = 'min',  save_best_only = True) \n",
    "# Reduce learning rate \n",
    "reduce_lr = ReduceLROnPlateau(monitor = 'val_loss', factor = 0.2, patience = 3, min_lr = 0.00001, mode = 'min', verbose = 1) \n"
   ]
  },
  {
   "cell_type": "code",
   "execution_count": 49,
   "metadata": {
    "execution": {
     "iopub.execute_input": "2022-12-08T14:06:11.022927Z",
     "iopub.status.busy": "2022-12-08T14:06:11.022599Z",
     "iopub.status.idle": "2022-12-08T14:28:55.463164Z",
     "shell.execute_reply": "2022-12-08T14:28:55.462448Z",
     "shell.execute_reply.started": "2022-12-08T14:06:11.022882Z"
    }
   },
   "outputs": [
    {
     "name": "stdout",
     "output_type": "stream",
     "text": [
      "Model: \"sequential_7\"\n",
      "_________________________________________________________________\n",
      "Layer (type)                 Output Shape              Param #   \n",
      "=================================================================\n",
      "mobilenetv2_1.00_224 (Functi (None, 2, 2, 1280)        2257984   \n",
      "_________________________________________________________________\n",
      "global_max_pooling2d_7 (Glob (None, 1280)              0         \n",
      "_________________________________________________________________\n",
      "flatten_7 (Flatten)          (None, 1280)              0         \n",
      "_________________________________________________________________\n",
      "dense_28 (Dense)             (None, 512)               655872    \n",
      "_________________________________________________________________\n",
      "dropout_21 (Dropout)         (None, 512)               0         \n",
      "_________________________________________________________________\n",
      "dense_29 (Dense)             (None, 256)               131328    \n",
      "_________________________________________________________________\n",
      "dropout_22 (Dropout)         (None, 256)               0         \n",
      "_________________________________________________________________\n",
      "dense_30 (Dense)             (None, 128)               32896     \n",
      "_________________________________________________________________\n",
      "dropout_23 (Dropout)         (None, 128)               0         \n",
      "_________________________________________________________________\n",
      "dense_31 (Dense)             (None, 1)                 129       \n",
      "=================================================================\n",
      "Total params: 3,078,209\n",
      "Trainable params: 3,044,097\n",
      "Non-trainable params: 34,112\n",
      "_________________________________________________________________\n",
      "None\n",
      "Epoch 1/100\n",
      "112/112 [==============================] - 19s 125ms/step - loss: 5.4764 - accuracy: 0.7722 - val_loss: 2.1796 - val_accuracy: 0.7849\n",
      "\n",
      "Epoch 00001: val_loss improved from 70.34495 to 2.17959, saving model to best_model.hdf5\n"
     ]
    },
    {
     "name": "stderr",
     "output_type": "stream",
     "text": [
      "/opt/conda/lib/python3.7/site-packages/keras/utils/generic_utils.py:497: CustomMaskWarning: Custom mask layers require a config and must override get_config. When loading, the custom mask layer must be passed to the custom_objects argument.\n",
      "  category=CustomMaskWarning)\n"
     ]
    },
    {
     "name": "stdout",
     "output_type": "stream",
     "text": [
      "Epoch 2/100\n",
      "112/112 [==============================] - 14s 123ms/step - loss: 0.7460 - accuracy: 0.8708 - val_loss: 0.7763 - val_accuracy: 0.8633\n",
      "\n",
      "Epoch 00002: val_loss improved from 2.17959 to 0.77631, saving model to best_model.hdf5\n",
      "Epoch 3/100\n",
      "112/112 [==============================] - 13s 118ms/step - loss: 0.3731 - accuracy: 0.8820 - val_loss: 1.8109 - val_accuracy: 0.7555\n",
      "\n",
      "Epoch 00003: val_loss did not improve from 0.77631\n",
      "Epoch 4/100\n",
      "112/112 [==============================] - 13s 117ms/step - loss: 0.3000 - accuracy: 0.8922 - val_loss: 0.5823 - val_accuracy: 0.8404\n",
      "\n",
      "Epoch 00004: val_loss improved from 0.77631 to 0.58235, saving model to best_model.hdf5\n",
      "Epoch 5/100\n",
      "112/112 [==============================] - 13s 118ms/step - loss: 0.2668 - accuracy: 0.8996 - val_loss: 1.6625 - val_accuracy: 0.7104\n",
      "\n",
      "Epoch 00005: val_loss did not improve from 0.58235\n",
      "Epoch 6/100\n",
      "112/112 [==============================] - 14s 122ms/step - loss: 0.2467 - accuracy: 0.9044 - val_loss: 1.0315 - val_accuracy: 0.7255\n",
      "\n",
      "Epoch 00006: val_loss did not improve from 0.58235\n",
      "Epoch 7/100\n",
      "112/112 [==============================] - 13s 119ms/step - loss: 0.2341 - accuracy: 0.9109 - val_loss: 0.8370 - val_accuracy: 0.7476\n",
      "\n",
      "Epoch 00007: val_loss did not improve from 0.58235\n",
      "\n",
      "Epoch 00007: ReduceLROnPlateau reducing learning rate to 0.00020000000949949026.\n",
      "Epoch 8/100\n",
      "112/112 [==============================] - 13s 118ms/step - loss: 0.1977 - accuracy: 0.9272 - val_loss: 1.4186 - val_accuracy: 0.7276\n",
      "\n",
      "Epoch 00008: val_loss did not improve from 0.58235\n",
      "Epoch 9/100\n",
      "112/112 [==============================] - 14s 124ms/step - loss: 0.1832 - accuracy: 0.9332 - val_loss: 0.7914 - val_accuracy: 0.8228\n",
      "\n",
      "Epoch 00009: val_loss did not improve from 0.58235\n",
      "Epoch 10/100\n",
      "112/112 [==============================] - 13s 116ms/step - loss: 0.1735 - accuracy: 0.9368 - val_loss: 1.0263 - val_accuracy: 0.7979\n",
      "\n",
      "Epoch 00010: val_loss did not improve from 0.58235\n",
      "\n",
      "Epoch 00010: ReduceLROnPlateau reducing learning rate to 4.0000001899898055e-05.\n",
      "Epoch 11/100\n",
      "112/112 [==============================] - 14s 123ms/step - loss: 0.1652 - accuracy: 0.9412 - val_loss: 0.7166 - val_accuracy: 0.8332\n",
      "\n",
      "Epoch 00011: val_loss did not improve from 0.58235\n",
      "Epoch 12/100\n",
      "112/112 [==============================] - 13s 117ms/step - loss: 0.1620 - accuracy: 0.9426 - val_loss: 0.6311 - val_accuracy: 0.8480\n",
      "\n",
      "Epoch 00012: val_loss did not improve from 0.58235\n",
      "Epoch 13/100\n",
      "112/112 [==============================] - 14s 122ms/step - loss: 0.1540 - accuracy: 0.9449 - val_loss: 0.5575 - val_accuracy: 0.8568\n",
      "\n",
      "Epoch 00013: val_loss improved from 0.58235 to 0.55748, saving model to best_model.hdf5\n",
      "Epoch 14/100\n",
      "112/112 [==============================] - 13s 117ms/step - loss: 0.1529 - accuracy: 0.9451 - val_loss: 0.4584 - val_accuracy: 0.8738\n",
      "\n",
      "Epoch 00014: val_loss improved from 0.55748 to 0.45844, saving model to best_model.hdf5\n",
      "Epoch 15/100\n",
      "112/112 [==============================] - 13s 120ms/step - loss: 0.1514 - accuracy: 0.9470 - val_loss: 0.4816 - val_accuracy: 0.8654\n",
      "\n",
      "Epoch 00015: val_loss did not improve from 0.45844\n",
      "Epoch 16/100\n",
      "112/112 [==============================] - 14s 124ms/step - loss: 0.1541 - accuracy: 0.9459 - val_loss: 0.5017 - val_accuracy: 0.8638\n",
      "\n",
      "Epoch 00016: val_loss did not improve from 0.45844\n",
      "Epoch 17/100\n",
      "112/112 [==============================] - 13s 116ms/step - loss: 0.1482 - accuracy: 0.9489 - val_loss: 0.3513 - val_accuracy: 0.8946\n",
      "\n",
      "Epoch 00017: val_loss improved from 0.45844 to 0.35129, saving model to best_model.hdf5\n",
      "Epoch 18/100\n",
      "112/112 [==============================] - 14s 124ms/step - loss: 0.1434 - accuracy: 0.9492 - val_loss: 0.3678 - val_accuracy: 0.8854\n",
      "\n",
      "Epoch 00018: val_loss did not improve from 0.35129\n",
      "Epoch 19/100\n",
      "112/112 [==============================] - 13s 116ms/step - loss: 0.1436 - accuracy: 0.9512 - val_loss: 0.4033 - val_accuracy: 0.8754\n",
      "\n",
      "Epoch 00019: val_loss did not improve from 0.35129\n",
      "Epoch 20/100\n",
      "112/112 [==============================] - 14s 125ms/step - loss: 0.1411 - accuracy: 0.9482 - val_loss: 0.3096 - val_accuracy: 0.8981\n",
      "\n",
      "Epoch 00020: val_loss improved from 0.35129 to 0.30963, saving model to best_model.hdf5\n",
      "Epoch 21/100\n",
      "112/112 [==============================] - 13s 117ms/step - loss: 0.1374 - accuracy: 0.9528 - val_loss: 0.3775 - val_accuracy: 0.8742\n",
      "\n",
      "Epoch 00021: val_loss did not improve from 0.30963\n",
      "Epoch 22/100\n",
      "112/112 [==============================] - 13s 117ms/step - loss: 0.1357 - accuracy: 0.9552 - val_loss: 0.3397 - val_accuracy: 0.8902\n",
      "\n",
      "Epoch 00022: val_loss did not improve from 0.30963\n",
      "Epoch 23/100\n",
      "112/112 [==============================] - 14s 122ms/step - loss: 0.1342 - accuracy: 0.9537 - val_loss: 0.3105 - val_accuracy: 0.8940\n",
      "\n",
      "Epoch 00023: val_loss did not improve from 0.30963\n",
      "\n",
      "Epoch 00023: ReduceLROnPlateau reducing learning rate to 1e-05.\n",
      "Epoch 24/100\n",
      "112/112 [==============================] - 13s 118ms/step - loss: 0.1257 - accuracy: 0.9586 - val_loss: 0.3117 - val_accuracy: 0.8975\n",
      "\n",
      "Epoch 00024: val_loss did not improve from 0.30963\n",
      "Epoch 25/100\n",
      "112/112 [==============================] - 14s 121ms/step - loss: 0.1279 - accuracy: 0.9575 - val_loss: 0.3153 - val_accuracy: 0.8960\n",
      "\n",
      "Epoch 00025: val_loss did not improve from 0.30963\n",
      "Epoch 26/100\n",
      "112/112 [==============================] - 13s 117ms/step - loss: 0.1239 - accuracy: 0.9588 - val_loss: 0.2828 - val_accuracy: 0.9047\n",
      "\n",
      "Epoch 00026: val_loss improved from 0.30963 to 0.28277, saving model to best_model.hdf5\n",
      "Epoch 27/100\n",
      "112/112 [==============================] - 14s 123ms/step - loss: 0.1227 - accuracy: 0.9611 - val_loss: 0.2722 - val_accuracy: 0.9114\n",
      "\n",
      "Epoch 00027: val_loss improved from 0.28277 to 0.27217, saving model to best_model.hdf5\n",
      "Epoch 28/100\n",
      "112/112 [==============================] - 13s 118ms/step - loss: 0.1238 - accuracy: 0.9598 - val_loss: 0.2677 - val_accuracy: 0.9132\n",
      "\n",
      "Epoch 00028: val_loss improved from 0.27217 to 0.26773, saving model to best_model.hdf5\n",
      "Epoch 29/100\n",
      "112/112 [==============================] - 13s 119ms/step - loss: 0.1229 - accuracy: 0.9602 - val_loss: 0.2641 - val_accuracy: 0.9156\n",
      "\n",
      "Epoch 00029: val_loss improved from 0.26773 to 0.26408, saving model to best_model.hdf5\n",
      "Epoch 30/100\n",
      "112/112 [==============================] - 14s 121ms/step - loss: 0.1231 - accuracy: 0.9599 - val_loss: 0.2447 - val_accuracy: 0.9232\n",
      "\n",
      "Epoch 00030: val_loss improved from 0.26408 to 0.24468, saving model to best_model.hdf5\n",
      "Epoch 31/100\n",
      "112/112 [==============================] - 13s 118ms/step - loss: 0.1198 - accuracy: 0.9605 - val_loss: 0.2552 - val_accuracy: 0.9202\n",
      "\n",
      "Epoch 00031: val_loss did not improve from 0.24468\n",
      "Epoch 32/100\n",
      "112/112 [==============================] - 14s 125ms/step - loss: 0.1182 - accuracy: 0.9608 - val_loss: 0.2562 - val_accuracy: 0.9200\n",
      "\n",
      "Epoch 00032: val_loss did not improve from 0.24468\n",
      "Epoch 33/100\n",
      "112/112 [==============================] - 13s 118ms/step - loss: 0.1197 - accuracy: 0.9602 - val_loss: 0.2454 - val_accuracy: 0.9243\n",
      "\n",
      "Epoch 00033: val_loss did not improve from 0.24468\n",
      "Epoch 34/100\n",
      "112/112 [==============================] - 14s 121ms/step - loss: 0.1171 - accuracy: 0.9635 - val_loss: 0.2541 - val_accuracy: 0.9230\n",
      "\n",
      "Epoch 00034: val_loss did not improve from 0.24468\n",
      "Epoch 35/100\n",
      "112/112 [==============================] - 13s 116ms/step - loss: 0.1134 - accuracy: 0.9627 - val_loss: 0.2534 - val_accuracy: 0.9241\n",
      "\n",
      "Epoch 00035: val_loss did not improve from 0.24468\n",
      "Epoch 36/100\n",
      "112/112 [==============================] - 13s 120ms/step - loss: 0.1161 - accuracy: 0.9632 - val_loss: 0.2523 - val_accuracy: 0.9232\n",
      "\n",
      "Epoch 00036: val_loss did not improve from 0.24468\n",
      "Epoch 37/100\n",
      "112/112 [==============================] - 14s 124ms/step - loss: 0.1128 - accuracy: 0.9641 - val_loss: 0.2526 - val_accuracy: 0.9237\n",
      "\n",
      "Epoch 00037: val_loss did not improve from 0.24468\n",
      "Epoch 38/100\n",
      "112/112 [==============================] - 13s 117ms/step - loss: 0.1107 - accuracy: 0.9649 - val_loss: 0.2566 - val_accuracy: 0.9225\n",
      "\n",
      "Epoch 00038: val_loss did not improve from 0.24468\n",
      "Epoch 39/100\n",
      "112/112 [==============================] - 14s 121ms/step - loss: 0.1102 - accuracy: 0.9660 - val_loss: 0.2539 - val_accuracy: 0.9239\n",
      "\n",
      "Epoch 00039: val_loss did not improve from 0.24468\n",
      "Epoch 40/100\n",
      "112/112 [==============================] - 13s 117ms/step - loss: 0.1137 - accuracy: 0.9637 - val_loss: 0.2437 - val_accuracy: 0.9239\n",
      "\n",
      "Epoch 00040: val_loss improved from 0.24468 to 0.24367, saving model to best_model.hdf5\n",
      "Epoch 41/100\n",
      "112/112 [==============================] - 14s 124ms/step - loss: 0.1122 - accuracy: 0.9658 - val_loss: 0.2486 - val_accuracy: 0.9232\n",
      "\n",
      "Epoch 00041: val_loss did not improve from 0.24367\n",
      "Epoch 42/100\n",
      "112/112 [==============================] - 13s 118ms/step - loss: 0.1078 - accuracy: 0.9664 - val_loss: 0.2521 - val_accuracy: 0.9257\n",
      "\n",
      "Epoch 00042: val_loss did not improve from 0.24367\n",
      "Epoch 43/100\n",
      "112/112 [==============================] - 13s 116ms/step - loss: 0.1122 - accuracy: 0.9632 - val_loss: 0.2515 - val_accuracy: 0.9237\n",
      "\n",
      "Epoch 00043: val_loss did not improve from 0.24367\n",
      "Epoch 44/100\n",
      "112/112 [==============================] - 14s 122ms/step - loss: 0.1052 - accuracy: 0.9679 - val_loss: 0.2535 - val_accuracy: 0.9236\n",
      "\n",
      "Epoch 00044: val_loss did not improve from 0.24367\n",
      "Epoch 45/100\n",
      "112/112 [==============================] - 14s 122ms/step - loss: 0.1072 - accuracy: 0.9667 - val_loss: 0.2507 - val_accuracy: 0.9236\n",
      "\n",
      "Epoch 00045: val_loss did not improve from 0.24367\n",
      "Epoch 46/100\n",
      "112/112 [==============================] - 14s 121ms/step - loss: 0.1054 - accuracy: 0.9682 - val_loss: 0.2564 - val_accuracy: 0.9236\n",
      "\n",
      "Epoch 00046: val_loss did not improve from 0.24367\n",
      "Epoch 47/100\n",
      "112/112 [==============================] - 13s 118ms/step - loss: 0.1028 - accuracy: 0.9686 - val_loss: 0.2494 - val_accuracy: 0.9255\n",
      "\n",
      "Epoch 00047: val_loss did not improve from 0.24367\n",
      "Epoch 48/100\n",
      "112/112 [==============================] - 14s 121ms/step - loss: 0.1058 - accuracy: 0.9677 - val_loss: 0.2460 - val_accuracy: 0.9241\n",
      "\n",
      "Epoch 00048: val_loss did not improve from 0.24367\n",
      "Epoch 49/100\n",
      "112/112 [==============================] - 14s 123ms/step - loss: 0.1052 - accuracy: 0.9674 - val_loss: 0.2473 - val_accuracy: 0.9257\n",
      "\n",
      "Epoch 00049: val_loss did not improve from 0.24367\n",
      "Epoch 50/100\n",
      "112/112 [==============================] - 13s 120ms/step - loss: 0.1002 - accuracy: 0.9691 - val_loss: 0.2578 - val_accuracy: 0.9246\n",
      "\n",
      "Epoch 00050: val_loss did not improve from 0.24367\n",
      "Epoch 51/100\n",
      "112/112 [==============================] - 14s 122ms/step - loss: 0.1006 - accuracy: 0.9708 - val_loss: 0.2560 - val_accuracy: 0.9250\n",
      "\n",
      "Epoch 00051: val_loss did not improve from 0.24367\n",
      "Epoch 52/100\n",
      "112/112 [==============================] - 13s 116ms/step - loss: 0.1035 - accuracy: 0.9682 - val_loss: 0.2484 - val_accuracy: 0.9246\n",
      "\n",
      "Epoch 00052: val_loss did not improve from 0.24367\n",
      "Epoch 53/100\n",
      "112/112 [==============================] - 14s 121ms/step - loss: 0.0999 - accuracy: 0.9696 - val_loss: 0.2560 - val_accuracy: 0.9250\n",
      "\n",
      "Epoch 00053: val_loss did not improve from 0.24367\n",
      "Epoch 54/100\n",
      "112/112 [==============================] - 13s 120ms/step - loss: 0.0968 - accuracy: 0.9704 - val_loss: 0.2613 - val_accuracy: 0.9236\n",
      "\n",
      "Epoch 00054: val_loss did not improve from 0.24367\n",
      "Epoch 55/100\n",
      "112/112 [==============================] - 14s 121ms/step - loss: 0.1000 - accuracy: 0.9701 - val_loss: 0.2620 - val_accuracy: 0.9213\n",
      "\n",
      "Epoch 00055: val_loss did not improve from 0.24367\n",
      "Epoch 56/100\n",
      "112/112 [==============================] - 13s 118ms/step - loss: 0.0997 - accuracy: 0.9700 - val_loss: 0.2578 - val_accuracy: 0.9223\n",
      "\n",
      "Epoch 00056: val_loss did not improve from 0.24367\n",
      "Epoch 57/100\n",
      "112/112 [==============================] - 13s 116ms/step - loss: 0.0996 - accuracy: 0.9703 - val_loss: 0.2661 - val_accuracy: 0.9223\n",
      "\n",
      "Epoch 00057: val_loss did not improve from 0.24367\n",
      "Epoch 58/100\n",
      "112/112 [==============================] - 14s 123ms/step - loss: 0.0986 - accuracy: 0.9694 - val_loss: 0.2610 - val_accuracy: 0.9211\n",
      "\n",
      "Epoch 00058: val_loss did not improve from 0.24367\n",
      "Epoch 59/100\n",
      "112/112 [==============================] - 13s 118ms/step - loss: 0.0950 - accuracy: 0.9724 - val_loss: 0.2679 - val_accuracy: 0.9228\n",
      "\n",
      "Epoch 00059: val_loss did not improve from 0.24367\n",
      "Epoch 60/100\n",
      "112/112 [==============================] - 14s 123ms/step - loss: 0.0970 - accuracy: 0.9713 - val_loss: 0.2622 - val_accuracy: 0.9220\n",
      "\n",
      "Epoch 00060: val_loss did not improve from 0.24367\n",
      "Epoch 61/100\n",
      "112/112 [==============================] - 13s 118ms/step - loss: 0.0935 - accuracy: 0.9726 - val_loss: 0.2616 - val_accuracy: 0.9206\n",
      "\n",
      "Epoch 00061: val_loss did not improve from 0.24367\n",
      "Epoch 62/100\n",
      "112/112 [==============================] - 14s 122ms/step - loss: 0.0936 - accuracy: 0.9728 - val_loss: 0.2656 - val_accuracy: 0.9227\n",
      "\n",
      "Epoch 00062: val_loss did not improve from 0.24367\n",
      "Epoch 63/100\n",
      "112/112 [==============================] - 13s 120ms/step - loss: 0.0973 - accuracy: 0.9693 - val_loss: 0.2600 - val_accuracy: 0.9227\n",
      "\n",
      "Epoch 00063: val_loss did not improve from 0.24367\n",
      "Epoch 64/100\n",
      "112/112 [==============================] - 13s 116ms/step - loss: 0.0932 - accuracy: 0.9712 - val_loss: 0.2646 - val_accuracy: 0.9236\n",
      "\n",
      "Epoch 00064: val_loss did not improve from 0.24367\n",
      "Epoch 65/100\n",
      "112/112 [==============================] - 14s 122ms/step - loss: 0.0909 - accuracy: 0.9732 - val_loss: 0.2623 - val_accuracy: 0.9228\n",
      "\n",
      "Epoch 00065: val_loss did not improve from 0.24367\n",
      "Epoch 66/100\n",
      "112/112 [==============================] - 13s 116ms/step - loss: 0.0940 - accuracy: 0.9724 - val_loss: 0.2669 - val_accuracy: 0.9236\n",
      "\n",
      "Epoch 00066: val_loss did not improve from 0.24367\n",
      "Epoch 67/100\n",
      "112/112 [==============================] - 14s 121ms/step - loss: 0.0934 - accuracy: 0.9719 - val_loss: 0.2607 - val_accuracy: 0.9241\n",
      "\n",
      "Epoch 00067: val_loss did not improve from 0.24367\n",
      "Epoch 68/100\n",
      "112/112 [==============================] - 14s 122ms/step - loss: 0.0882 - accuracy: 0.9736 - val_loss: 0.2701 - val_accuracy: 0.9239\n",
      "\n",
      "Epoch 00068: val_loss did not improve from 0.24367\n",
      "Epoch 69/100\n",
      "112/112 [==============================] - 13s 120ms/step - loss: 0.0928 - accuracy: 0.9734 - val_loss: 0.2687 - val_accuracy: 0.9232\n",
      "\n",
      "Epoch 00069: val_loss did not improve from 0.24367\n",
      "Epoch 70/100\n",
      "112/112 [==============================] - 13s 116ms/step - loss: 0.0848 - accuracy: 0.9762 - val_loss: 0.2667 - val_accuracy: 0.9223\n",
      "\n",
      "Epoch 00070: val_loss did not improve from 0.24367\n",
      "Epoch 71/100\n",
      "112/112 [==============================] - 13s 116ms/step - loss: 0.0868 - accuracy: 0.9762 - val_loss: 0.2705 - val_accuracy: 0.9251\n",
      "\n",
      "Epoch 00071: val_loss did not improve from 0.24367\n",
      "Epoch 72/100\n",
      "112/112 [==============================] - 14s 125ms/step - loss: 0.0907 - accuracy: 0.9730 - val_loss: 0.2675 - val_accuracy: 0.9234\n",
      "\n",
      "Epoch 00072: val_loss did not improve from 0.24367\n",
      "Epoch 73/100\n",
      "112/112 [==============================] - 13s 116ms/step - loss: 0.0921 - accuracy: 0.9744 - val_loss: 0.2693 - val_accuracy: 0.9234\n",
      "\n",
      "Epoch 00073: val_loss did not improve from 0.24367\n",
      "Epoch 74/100\n",
      "112/112 [==============================] - 14s 124ms/step - loss: 0.0870 - accuracy: 0.9755 - val_loss: 0.2691 - val_accuracy: 0.9230\n",
      "\n",
      "Epoch 00074: val_loss did not improve from 0.24367\n",
      "Epoch 75/100\n",
      "112/112 [==============================] - 13s 117ms/step - loss: 0.0843 - accuracy: 0.9754 - val_loss: 0.2734 - val_accuracy: 0.9239\n",
      "\n",
      "Epoch 00075: val_loss did not improve from 0.24367\n",
      "Epoch 76/100\n",
      "112/112 [==============================] - 13s 118ms/step - loss: 0.0876 - accuracy: 0.9750 - val_loss: 0.2744 - val_accuracy: 0.9225\n",
      "\n",
      "Epoch 00076: val_loss did not improve from 0.24367\n",
      "Epoch 77/100\n",
      "112/112 [==============================] - 14s 123ms/step - loss: 0.0861 - accuracy: 0.9748 - val_loss: 0.2736 - val_accuracy: 0.9221\n",
      "\n",
      "Epoch 00077: val_loss did not improve from 0.24367\n",
      "Epoch 78/100\n",
      "112/112 [==============================] - 13s 116ms/step - loss: 0.0863 - accuracy: 0.9746 - val_loss: 0.2755 - val_accuracy: 0.9197\n",
      "\n",
      "Epoch 00078: val_loss did not improve from 0.24367\n",
      "Epoch 79/100\n",
      "112/112 [==============================] - 14s 123ms/step - loss: 0.0874 - accuracy: 0.9741 - val_loss: 0.2738 - val_accuracy: 0.9207\n",
      "\n",
      "Epoch 00079: val_loss did not improve from 0.24367\n",
      "Epoch 80/100\n",
      "112/112 [==============================] - 13s 117ms/step - loss: 0.0819 - accuracy: 0.9770 - val_loss: 0.2780 - val_accuracy: 0.9220\n",
      "\n",
      "Epoch 00080: val_loss did not improve from 0.24367\n",
      "Epoch 81/100\n",
      "112/112 [==============================] - 14s 126ms/step - loss: 0.0802 - accuracy: 0.9773 - val_loss: 0.2804 - val_accuracy: 0.9214\n",
      "\n",
      "Epoch 00081: val_loss did not improve from 0.24367\n",
      "Epoch 82/100\n",
      "112/112 [==============================] - 13s 115ms/step - loss: 0.0846 - accuracy: 0.9746 - val_loss: 0.2798 - val_accuracy: 0.9195\n",
      "\n",
      "Epoch 00082: val_loss did not improve from 0.24367\n",
      "Epoch 83/100\n",
      "112/112 [==============================] - 13s 116ms/step - loss: 0.0857 - accuracy: 0.9756 - val_loss: 0.2783 - val_accuracy: 0.9188\n",
      "\n",
      "Epoch 00083: val_loss did not improve from 0.24367\n",
      "Epoch 84/100\n",
      "112/112 [==============================] - 14s 122ms/step - loss: 0.0834 - accuracy: 0.9764 - val_loss: 0.2791 - val_accuracy: 0.9190\n",
      "\n",
      "Epoch 00084: val_loss did not improve from 0.24367\n",
      "Epoch 85/100\n",
      "112/112 [==============================] - 13s 116ms/step - loss: 0.0812 - accuracy: 0.9772 - val_loss: 0.2855 - val_accuracy: 0.9207\n",
      "\n",
      "Epoch 00085: val_loss did not improve from 0.24367\n",
      "Epoch 86/100\n",
      "112/112 [==============================] - 14s 128ms/step - loss: 0.0794 - accuracy: 0.9781 - val_loss: 0.2830 - val_accuracy: 0.9204\n",
      "\n",
      "Epoch 00086: val_loss did not improve from 0.24367\n",
      "Epoch 87/100\n",
      "112/112 [==============================] - 13s 117ms/step - loss: 0.0768 - accuracy: 0.9786 - val_loss: 0.2863 - val_accuracy: 0.9204\n",
      "\n",
      "Epoch 00087: val_loss did not improve from 0.24367\n",
      "Epoch 88/100\n",
      "112/112 [==============================] - 14s 123ms/step - loss: 0.0821 - accuracy: 0.9764 - val_loss: 0.2782 - val_accuracy: 0.9206\n",
      "\n",
      "Epoch 00088: val_loss did not improve from 0.24367\n",
      "Epoch 89/100\n",
      "112/112 [==============================] - 13s 116ms/step - loss: 0.0822 - accuracy: 0.9767 - val_loss: 0.2767 - val_accuracy: 0.9185\n",
      "\n",
      "Epoch 00089: val_loss did not improve from 0.24367\n",
      "Epoch 90/100\n",
      "112/112 [==============================] - 13s 118ms/step - loss: 0.0775 - accuracy: 0.9799 - val_loss: 0.2817 - val_accuracy: 0.9206\n",
      "\n",
      "Epoch 00090: val_loss did not improve from 0.24367\n",
      "Epoch 91/100\n",
      "112/112 [==============================] - 14s 122ms/step - loss: 0.0768 - accuracy: 0.9792 - val_loss: 0.2859 - val_accuracy: 0.9211\n",
      "\n",
      "Epoch 00091: val_loss did not improve from 0.24367\n",
      "Epoch 92/100\n",
      "112/112 [==============================] - 13s 117ms/step - loss: 0.0760 - accuracy: 0.9795 - val_loss: 0.2880 - val_accuracy: 0.9206\n",
      "\n",
      "Epoch 00092: val_loss did not improve from 0.24367\n",
      "Epoch 93/100\n",
      "112/112 [==============================] - 14s 121ms/step - loss: 0.0762 - accuracy: 0.9786 - val_loss: 0.2891 - val_accuracy: 0.9202\n",
      "\n",
      "Epoch 00093: val_loss did not improve from 0.24367\n",
      "Epoch 94/100\n",
      "112/112 [==============================] - 13s 115ms/step - loss: 0.0727 - accuracy: 0.9795 - val_loss: 0.2961 - val_accuracy: 0.9209\n",
      "\n",
      "Epoch 00094: val_loss did not improve from 0.24367\n",
      "Epoch 95/100\n",
      "112/112 [==============================] - 14s 127ms/step - loss: 0.0812 - accuracy: 0.9780 - val_loss: 0.2854 - val_accuracy: 0.9223\n",
      "\n",
      "Epoch 00095: val_loss did not improve from 0.24367\n",
      "Epoch 96/100\n",
      "112/112 [==============================] - 13s 116ms/step - loss: 0.0824 - accuracy: 0.9754 - val_loss: 0.2843 - val_accuracy: 0.9207\n",
      "\n",
      "Epoch 00096: val_loss did not improve from 0.24367\n",
      "Epoch 97/100\n",
      "112/112 [==============================] - 13s 118ms/step - loss: 0.0768 - accuracy: 0.9783 - val_loss: 0.2890 - val_accuracy: 0.9188\n",
      "\n",
      "Epoch 00097: val_loss did not improve from 0.24367\n",
      "Epoch 98/100\n",
      "112/112 [==============================] - 14s 122ms/step - loss: 0.0753 - accuracy: 0.9798 - val_loss: 0.2948 - val_accuracy: 0.9209\n",
      "\n",
      "Epoch 00098: val_loss did not improve from 0.24367\n",
      "Epoch 99/100\n",
      "112/112 [==============================] - 13s 116ms/step - loss: 0.0726 - accuracy: 0.9802 - val_loss: 0.2951 - val_accuracy: 0.9221\n",
      "\n",
      "Epoch 00099: val_loss did not improve from 0.24367\n",
      "Epoch 100/100\n",
      "112/112 [==============================] - 14s 123ms/step - loss: 0.0741 - accuracy: 0.9802 - val_loss: 0.2849 - val_accuracy: 0.9193\n",
      "\n",
      "Epoch 00100: val_loss did not improve from 0.24367\n"
     ]
    },
    {
     "data": {
      "image/png": "[encoded data removed]",
      "text/plain": [
       "<Figure size 432x288 with 1 Axes>"
      ]
     },
     "metadata": {},
     "output_type": "display_data"
    },
    {
     "data": {
      "image/png": "[encoded data removed]",
      "text/plain": [
       "<Figure size 432x288 with 1 Axes>"
      ]
     },
     "metadata": {},
     "output_type": "display_data"
    }
   ],
   "source": [
    "# Import Model \n",
    "# MobileNetV2 - 14MB - 71.3% - 90.1% - 3.5M - 105\n",
    "from tensorflow.keras.applications import MobileNetV2, EfficientNetB3\n",
    "mbnv2 = MobileNetV2(input_shape = input_shape, include_top = False, weights = 'imagenet') \n",
    "# Definition Model \n",
    "def build_model(base_modelx):\n",
    "    model = Sequential(base_modelx) \n",
    "    model.add(GlobalMaxPooling2D())\n",
    "    model.add(Flatten())\n",
    "    \n",
    "    model.add(Dense(512,activation ='relu',kernel_regularizer=regularizers.l2(0.01))) \n",
    "    model.add(Dropout(0.1))\n",
    "    \n",
    "    model.add(Dense(256,activation ='relu',kernel_regularizer=regularizers.l2(0.01))) \n",
    "    model.add(Dropout(0.2))\n",
    "    \n",
    "    model.add(Dense(128,activation ='relu',kernel_regularizer=regularizers.l2(0.01))) \n",
    "    model.add(Dropout(0.3))\n",
    "    \n",
    "    model.add(Dense(1, activation = 'sigmoid',kernel_regularizer=regularizers.l2(0.01)))\n",
    "    print(model.summary())\n",
    "    model.compile(optimizer='adam', loss='binary_crossentropy', metrics=['accuracy']) \n",
    "    return model\n",
    "\n",
    "model = build_model(mbnv2) \n",
    "\n",
    "#Model Trainning \n",
    "history = model.fit(train_generator, validation_data = val_generator, epochs = 100, callbacks = [checkpoint, reduce_lr]) \n",
    "# history = model.fit(X_train, y_train, validation_data = (X_val, y_val), batch_size = 64, epochs = 100, callbacks = [checkpoint, reduce_lr]) \n",
    "\n",
    "# Ploting acc and loss \n",
    "from matplotlib import pyplot as plt\n",
    "#  \"Accuracy\"\n",
    "plt.plot(history.history['accuracy'])\n",
    "plt.plot(history.history['val_accuracy'])\n",
    "plt.title('model accuracy')\n",
    "plt.ylabel('accuracy')\n",
    "plt.xlabel('epoch')\n",
    "plt.legend(['train', 'val'], loc='upper left')\n",
    "plt.show()\n",
    "# \"Loss\"\n",
    "plt.plot(history.history['loss'])\n",
    "plt.plot(history.history['val_loss'])\n",
    "plt.title('model loss')\n",
    "plt.ylabel('loss')\n",
    "plt.xlabel('epoch')\n",
    "plt.legend(['train', 'val'], loc='upper left')\n",
    "plt.show()"
   ]
  },
  {
   "cell_type": "code",
   "execution_count": 50,
   "metadata": {
    "execution": {
     "iopub.execute_input": "2022-12-08T14:31:40.464748Z",
     "iopub.status.busy": "2022-12-08T14:31:40.464439Z",
     "iopub.status.idle": "2022-12-08T14:31:41.088424Z",
     "shell.execute_reply": "2022-12-08T14:31:41.087708Z",
     "shell.execute_reply.started": "2022-12-08T14:31:40.464713Z"
    }
   },
   "outputs": [
    {
     "data": {
      "image/png": "[encoded data removed]",
      "text/plain": [
       "<Figure size 432x288 with 1 Axes>"
      ]
     },
     "metadata": {},
     "output_type": "display_data"
    },
    {
     "data": {
      "image/png": "[encoded data removed]",
      "text/plain": [
       "<Figure size 432x288 with 1 Axes>"
      ]
     },
     "metadata": {},
     "output_type": "display_data"
    }
   ],
   "source": [
    "#  \"Accuracy\"\n",
    "plt.plot(history.history['accuracy'])\n",
    "plt.plot(history.history['val_accuracy'])\n",
    "plt.title('model accuracy')\n",
    "plt.ylabel('accuracy')\n",
    "plt.xlabel('epoch')\n",
    "plt.legend(['train', 'val'], loc='upper left')\n",
    "plt.savefig('/kaggle/working/Accuracy_gender.png')\n",
    "plt.show()\n",
    "# \"Loss\"\n",
    "plt.plot(history.history['loss'])\n",
    "plt.plot(history.history['val_loss'])\n",
    "plt.title('model loss')\n",
    "plt.ylabel('loss')\n",
    "plt.xlabel('epoch')\n",
    "plt.legend(['train', 'val'], loc='upper left')\n",
    "plt.savefig('/kaggle/working/Loss_gender.png')\n",
    "plt.show()"
   ]
  },
  {
   "cell_type": "code",
   "execution_count": 52,
   "metadata": {
    "execution": {
     "iopub.execute_input": "2022-12-08T14:33:17.889736Z",
     "iopub.status.busy": "2022-12-08T14:33:17.889427Z",
     "iopub.status.idle": "2022-12-08T14:33:19.360581Z",
     "shell.execute_reply": "2022-12-08T14:33:19.359887Z",
     "shell.execute_reply.started": "2022-12-08T14:33:17.889702Z"
    }
   },
   "outputs": [
    {
     "name": "stdout",
     "output_type": "stream",
     "text": [
      "119/119 [==============================] - 1s 10ms/step - loss: 0.3094 - accuracy: 0.9143\n",
      "Accuracy for test set: 0.9143384099006653\n"
     ]
    }
   ],
   "source": [
    "valid_score = model.evaluate(X_test, y_test, verbose=1)\n",
    "print('Accuracy for test set: {0}'.format(valid_score[1]))"
   ]
  },
  {
   "cell_type": "code",
   "execution_count": 55,
   "metadata": {
    "execution": {
     "iopub.execute_input": "2022-12-08T14:36:38.865643Z",
     "iopub.status.busy": "2022-12-08T14:36:38.865362Z",
     "iopub.status.idle": "2022-12-08T14:36:39.957087Z",
     "shell.execute_reply": "2022-12-08T14:36:39.956378Z",
     "shell.execute_reply.started": "2022-12-08T14:36:38.865613Z"
    }
   },
   "outputs": [
    {
     "data": {
      "text/plain": [
       "array([[0],\n",
       "       [1],\n",
       "       [0],\n",
       "       ...,\n",
       "       [1],\n",
       "       [0],\n",
       "       [1]])"
      ]
     },
     "execution_count": 55,
     "metadata": {},
     "output_type": "execute_result"
    }
   ],
   "source": [
    "y_pred = model.predict(X_test)\n",
    "y_pred = np.round(y_pred).astype(int)\n",
    "y_pred"
   ]
  },
  {
   "cell_type": "code",
   "execution_count": 56,
   "metadata": {
    "execution": {
     "iopub.execute_input": "2022-12-08T14:36:44.550528Z",
     "iopub.status.busy": "2022-12-08T14:36:44.549979Z",
     "iopub.status.idle": "2022-12-08T14:36:44.565072Z",
     "shell.execute_reply": "2022-12-08T14:36:44.564102Z",
     "shell.execute_reply.started": "2022-12-08T14:36:44.550490Z"
    }
   },
   "outputs": [
    {
     "name": "stdout",
     "output_type": "stream",
     "text": [
      "              precision    recall  f1-score   support\n",
      "\n",
      "           0       0.91      0.92      0.91      1894\n",
      "           1       0.92      0.91      0.91      1900\n",
      "\n",
      "    accuracy                           0.91      3794\n",
      "   macro avg       0.91      0.91      0.91      3794\n",
      "weighted avg       0.91      0.91      0.91      3794\n",
      "\n"
     ]
    }
   ],
   "source": [
    "print(classification_report(y_test, y_pred))\n"
   ]
  },
  {
   "cell_type": "code",
   "execution_count": 57,
   "metadata": {
    "execution": {
     "iopub.execute_input": "2022-12-08T14:37:05.451633Z",
     "iopub.status.busy": "2022-12-08T14:37:05.451352Z",
     "iopub.status.idle": "2022-12-08T14:37:05.632090Z",
     "shell.execute_reply": "2022-12-08T14:37:05.631359Z",
     "shell.execute_reply.started": "2022-12-08T14:37:05.451602Z"
    }
   },
   "outputs": [
    {
     "data": {
      "image/png": "[encoded data removed]",
      "text/plain": [
       "<Figure size 432x288 with 1 Axes>"
      ]
     },
     "metadata": {},
     "output_type": "display_data"
    }
   ],
   "source": [
    "cm = confusion_matrix(y_test, y_pred)\n",
    "sns.heatmap(cm, cmap='Greens', cbar=False, annot=True, fmt='d');"
   ]
  }
 ],
 "metadata": {
  "kernelspec": {
   "display_name": "Python 3 (ipykernel)",
   "language": "python",
   "name": "python3"
  },
  "language_info": {
   "codemirror_mode": {
    "name": "ipython",
    "version": 3
   },
   "file_extension": ".py",
   "mimetype": "text/x-python",
   "name": "python",
   "nbconvert_exporter": "python",
   "pygments_lexer": "ipython3",
   "version": "3.9.15"
  }
 },
 "nbformat": 4,
 "nbformat_minor": 4
}
